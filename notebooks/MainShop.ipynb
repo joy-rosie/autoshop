{
 "cells": [
  {
   "cell_type": "code",
   "execution_count": null,
   "id": "1be238f1-2395-4f95-af66-28d1de0603c8",
   "metadata": {},
   "outputs": [],
   "source": [
    "import autoshop\n",
    "import pandas as pd"
   ]
  },
  {
   "cell_type": "code",
   "execution_count": null,
   "id": "090f4483",
   "metadata": {},
   "outputs": [],
   "source": [
    "pd.set_option(\"display.max_rows\", 100)"
   ]
  },
  {
   "cell_type": "code",
   "execution_count": null,
   "id": "007156fd",
   "metadata": {},
   "outputs": [],
   "source": [
    "driver = autoshop.chrome.driver()\n",
    "autoshop.tesco.login(driver=driver)\n",
    "autoshop.tesco.make_changes_to_first_order(driver=driver)"
   ]
  },
  {
   "cell_type": "code",
   "execution_count": null,
   "id": "8125b2c1",
   "metadata": {},
   "outputs": [],
   "source": [
    "autoshop.tesco.empty_basket(driver=driver)"
   ]
  },
  {
   "cell_type": "code",
   "execution_count": null,
   "id": "086175c8",
   "metadata": {},
   "outputs": [],
   "source": [
    "df_shop = autoshop.google.get_shop()\n",
    "df_food_conversion = autoshop.google.get_food_conversion()\n",
    "df_tesco_food_map_raw = autoshop.google.get_tesco_food_map()"
   ]
  },
  {
   "cell_type": "code",
   "execution_count": null,
   "id": "e51f90fa",
   "metadata": {},
   "outputs": [],
   "source": [
    "df_tesco_food_map = (\n",
    "    df_tesco_food_map_raw\n",
    "    .dropna(subset=[\"amount\"])\n",
    "    .reset_index(drop=True)\n",
    "    .assign(\n",
    "        unit=lambda x: x[\"unit\"].where(x[\"unit\"] != \"pack\", \"\"),\n",
    "        amountGram=lambda x: x[[\"amount\", \"unit\"]].apply(\n",
    "            lambda row: autoshop.unit.parse_to_grams(\n",
    "                amount=row[\"amount\"],\n",
    "                unit=row[\"unit\"], \n",
    "            ), \n",
    "            axis=1,\n",
    "        ),\n",
    "        amountMilliliter=lambda x: x[[\"amount\", \"unit\"]].apply(\n",
    "            lambda row: autoshop.unit.parse_to_milliliters(\n",
    "                amount=row[\"amount\"],\n",
    "                unit=row[\"unit\"],\n",
    "            ), \n",
    "            axis=1,\n",
    "        ),\n",
    "    )\n",
    "    .merge(\n",
    "        df_food_conversion,\n",
    "        how=\"left\",\n",
    "        on=[\"food\", \"unit\"],\n",
    "    )\n",
    "    .assign(\n",
    "        amountGram=lambda x: x[\"amountGram\"].fillna(x[\"amount\"] * x[\"toGram\"]),\n",
    "    )\n",
    "    # We will ignore anything in milliliters for now\n",
    "    [lambda x: x[\"amountMilliliter\"].isna()]\n",
    ")"
   ]
  },
  {
   "cell_type": "code",
   "execution_count": null,
   "id": "73ca7091",
   "metadata": {},
   "outputs": [],
   "source": [
    "# Should be empty\n",
    "df_tesco_food_map[lambda x: x[\"amountGram\"].isna() & x[\"amountMilliliter\"].isna()]"
   ]
  },
  {
   "cell_type": "code",
   "execution_count": null,
   "id": "bf06f085",
   "metadata": {},
   "outputs": [],
   "source": [
    "df_food_shop = (\n",
    "    df_shop\n",
    "    .merge(df_food_conversion, how=\"left\", on=[\"food\", \"unit\"])\n",
    "    .assign(\n",
    "        amountGram=lambda x: x[\"amount\"].where(x[\"unit\"] == \"g\", x[\"amount\"] * x[\"toGram\"]),\n",
    "        quantityUnderlying=lambda x: x[\"amount\"].astype(str) + \" \" + x[\"unit\"],\n",
    "    )\n",
    "    .groupby([\"food\", \"nameFood\"])\n",
    "    .aggregate(\n",
    "        amountGram=pd.NamedAgg(column=\"amountGram\", aggfunc=lambda x: x.sum(skipna=False)),\n",
    "        quantityUnderlying=pd.NamedAgg(column=\"quantityUnderlying\", aggfunc=lambda x: \", \".join(x)),\n",
    "    )\n",
    "    .reset_index()\n",
    ")\n",
    "\n",
    "display(df_food_shop)"
   ]
  },
  {
   "cell_type": "code",
   "execution_count": null,
   "id": "05b5e238",
   "metadata": {},
   "outputs": [],
   "source": [
    "for _, row in df_food_shop.iterrows():\n",
    "    food = row[\"food\"]\n",
    "    quantity_underlying = row[\"quantityUnderlying\"]\n",
    "    amount_grams = row[\"amountGram\"]\n",
    "    autoshop.logger.debug(f\"Working on {food=}, {quantity_underlying=}, {amount_grams=}\")\n",
    "    \n",
    "    df_tesco = (\n",
    "        df_tesco_food_map\n",
    "        [lambda x: x[\"food\"] == food]\n",
    "        .sort_values(\"order\", ascending=True)\n",
    "    )\n",
    "    \n",
    "    if not df_tesco.empty:\n",
    "        link = df_tesco.iloc[0][\"link\"]\n",
    "        amount_tesco_grams = df_tesco.iloc[0][\"amountGram\"]\n",
    "        amount_tesco = int(round(amount_grams / amount_tesco_grams, 0))\n",
    "        \n",
    "        info = f\"{food=}, {quantity_underlying=}, {amount_tesco=}, {amount_grams=}, {amount_tesco_grams=}, {link=}\"\n",
    "        autoshop.logger.debug(f\"Tesco mapping found with {info}\")\n",
    "        \n",
    "        autoshop.tesco.add_food_to_basket(\n",
    "            driver=driver,\n",
    "            url=link,\n",
    "            amount=amount_tesco,\n",
    "            info=info,\n",
    "        )\n",
    "        \n",
    "    else:\n",
    "        autoshop.logger.warning(f\"No tesco mapping found for {food=}, {quantity_underlying=}\")"
   ]
  }
 ],
 "metadata": {
  "kernelspec": {
   "display_name": "Python 3 (ipykernel)",
   "language": "python",
   "name": "python3"
  },
  "language_info": {
   "codemirror_mode": {
    "name": "ipython",
    "version": 3
   },
   "file_extension": ".py",
   "mimetype": "text/x-python",
   "name": "python",
   "nbconvert_exporter": "python",
   "pygments_lexer": "ipython3",
   "version": "3.11.5"
  }
 },
 "nbformat": 4,
 "nbformat_minor": 5
}
