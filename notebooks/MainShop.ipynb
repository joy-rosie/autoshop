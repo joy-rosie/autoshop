{
 "cells": [
  {
   "cell_type": "code",
   "execution_count": null,
   "id": "1be238f1-2395-4f95-af66-28d1de0603c8",
   "metadata": {},
   "outputs": [],
   "source": [
    "from autoshop import all as autoshop\n",
    "import pandas as pd"
   ]
  },
  {
   "cell_type": "code",
   "execution_count": null,
   "id": "e39c41cd",
   "metadata": {},
   "outputs": [],
   "source": [
    "empty_basket = False"
   ]
  },
  {
   "cell_type": "code",
   "execution_count": null,
   "id": "090f4483",
   "metadata": {},
   "outputs": [],
   "source": [
    "pd.set_option(\"display.max_rows\", 100)"
   ]
  },
  {
   "cell_type": "code",
   "execution_count": null,
   "id": "007156fd",
   "metadata": {},
   "outputs": [],
   "source": [
    "driver = autoshop.chrome.driver()\n",
    "autoshop.tesco.login(driver=driver)"
   ]
  },
  {
   "cell_type": "code",
   "execution_count": null,
   "id": "3d01c291",
   "metadata": {},
   "outputs": [],
   "source": [
    "autoshop.tesco.make_changes_to_nth_order(driver=driver, n=0)"
   ]
  },
  {
   "cell_type": "code",
   "execution_count": null,
   "id": "198fad75",
   "metadata": {},
   "outputs": [],
   "source": [
    "# TODO: Need to add an assert here for date"
   ]
  },
  {
   "cell_type": "code",
   "execution_count": null,
   "id": "8125b2c1",
   "metadata": {},
   "outputs": [],
   "source": [
    "if empty_basket:\n",
    "    autoshop.tesco.empty_basket(driver=driver)"
   ]
  },
  {
   "cell_type": "code",
   "execution_count": null,
   "id": "086175c8",
   "metadata": {},
   "outputs": [],
   "source": [
    "df_shop = autoshop.google.get_shop()\n",
    "df_food_conversion = autoshop.google.get_food_conversion()\n",
    "df_tesco_food_map_raw = autoshop.google.get_tesco_food_map()"
   ]
  },
  {
   "cell_type": "code",
   "execution_count": null,
   "id": "e51f90fa",
   "metadata": {},
   "outputs": [],
   "source": [
    "df_tesco_food_map = (\n",
    "    df_tesco_food_map_raw.dropna(subset=[\"amount\"])\n",
    "    .reset_index(drop=True)\n",
    "    .assign(\n",
    "        unit=lambda x: x[\"unit\"].where(x[\"unit\"] != \"pack\", \"\"),\n",
    "        amountGram=lambda x: x[[\"amount\", \"unit\"]].apply(\n",
    "            lambda row: autoshop.unit.parse_to_grams(\n",
    "                amount=row[\"amount\"],\n",
    "                unit=row[\"unit\"],\n",
    "            ),\n",
    "            axis=1,\n",
    "        ),\n",
    "        amountMilliliter=lambda x: x[[\"amount\", \"unit\"]].apply(\n",
    "            lambda row: autoshop.unit.parse_to_milliliters(\n",
    "                amount=row[\"amount\"],\n",
    "                unit=row[\"unit\"],\n",
    "            ),\n",
    "            axis=1,\n",
    "        ),\n",
    "    )\n",
    "    .merge(\n",
    "        df_food_conversion,\n",
    "        how=\"left\",\n",
    "        on=[\"food\", \"unit\"],\n",
    "    )\n",
    "    .assign(\n",
    "        amountGram=lambda x: x[\"amountGram\"].fillna(x[\"amount\"] * x[\"toGram\"]),\n",
    "    )[\n",
    "        # We will ignore anything in milliliters for now\n",
    "        lambda x: x[\"amountMilliliter\"].isna()\n",
    "    ]\n",
    ")"
   ]
  },
  {
   "cell_type": "code",
   "execution_count": null,
   "id": "73ca7091",
   "metadata": {},
   "outputs": [],
   "source": [
    "# Should be empty\n",
    "df_tesco_food_map[lambda x: x[\"amountGram\"].isna() & x[\"amountMilliliter\"].isna()]"
   ]
  },
  {
   "cell_type": "code",
   "execution_count": null,
   "id": "bf06f085",
   "metadata": {},
   "outputs": [],
   "source": [
    "df_food_shop = (\n",
    "    df_shop.merge(df_food_conversion, how=\"left\", on=[\"food\", \"unit\"])\n",
    "    .assign(\n",
    "        amountGram=lambda x: x[\"amount\"].where(\n",
    "            x[\"unit\"] == \"g\", x[\"amount\"] * x[\"toGram\"]\n",
    "        ),\n",
    "        quantityUnderlying=lambda x: x[\"amount\"].astype(str) + \" \" + x[\"unit\"],\n",
    "    )\n",
    "    .groupby([\"food\", \"nameFood\"])\n",
    "    .aggregate(\n",
    "        amountGram=pd.NamedAgg(\n",
    "            column=\"amountGram\", aggfunc=lambda x: x.sum(skipna=False)\n",
    "        ),\n",
    "        quantityUnderlying=pd.NamedAgg(\n",
    "            column=\"quantityUnderlying\", aggfunc=lambda x: \", \".join(x)\n",
    "        ),\n",
    "    )\n",
    "    .reset_index()\n",
    ")\n",
    "\n",
    "display(df_food_shop)"
   ]
  },
  {
   "cell_type": "code",
   "execution_count": null,
   "id": "f79e23a7",
   "metadata": {},
   "outputs": [],
   "source": [
    "assert not df_food_shop.isna().any().any(), \"There is a nan!!\""
   ]
  },
  {
   "cell_type": "code",
   "execution_count": null,
   "id": "05b5e238",
   "metadata": {},
   "outputs": [],
   "source": [
    "import time\n",
    "\n",
    "for _, row in df_food_shop.iterrows():\n",
    "    time.sleep(3)\n",
    "    food = row[\"food\"]\n",
    "    quantity_underlying = row[\"quantityUnderlying\"]\n",
    "    amount_grams = row[\"amountGram\"]\n",
    "    autoshop.logger.debug(\n",
    "        f\"Working on {food=}, {quantity_underlying=}, {amount_grams=}\"\n",
    "    )\n",
    "\n",
    "    df_tesco = df_tesco_food_map[lambda x: x[\"food\"] == food].sort_values(\n",
    "        \"order\", ascending=True\n",
    "    )\n",
    "\n",
    "    if not df_tesco.empty:\n",
    "        link = df_tesco.iloc[0][\"link\"]\n",
    "        amount_tesco_grams = df_tesco.iloc[0][\"amountGram\"]\n",
    "        amount_tesco = int(round(amount_grams / amount_tesco_grams, 0))\n",
    "        amount_tesco = 1 if amount_tesco == 0 else amount_tesco\n",
    "\n",
    "        info = f\"{food=}, {quantity_underlying=}, {amount_tesco=}, {amount_grams=}, {amount_tesco_grams=}, {link=}\"\n",
    "        autoshop.logger.debug(f\"Tesco mapping found with {info}\")\n",
    "\n",
    "        autoshop.tesco.add_food_to_basket_with_retry(\n",
    "            driver=driver,\n",
    "            url=link,\n",
    "            amount=amount_tesco,\n",
    "            info=info,\n",
    "        )\n",
    "    else:\n",
    "        autoshop.logger.warning(\n",
    "            f\"No tesco mapping found for {food=}, {quantity_underlying=}\"\n",
    "        )"
   ]
  },
  {
   "cell_type": "code",
   "execution_count": null,
   "id": "7fb27b941602401d91542211134fc71a",
   "metadata": {},
   "outputs": [],
   "source": [
    "autoshop.tesco.checkout(driver=driver, to_confirm_changes=True)"
   ]
  }
 ],
 "metadata": {
  "kernelspec": {
   "display_name": "autoshop (3.11.11)",
   "language": "python",
   "name": "python3"
  },
  "language_info": {
   "codemirror_mode": {
    "name": "ipython",
    "version": 3
   },
   "file_extension": ".py",
   "mimetype": "text/x-python",
   "name": "python",
   "nbconvert_exporter": "python",
   "pygments_lexer": "ipython3",
   "version": "3.11.11"
  }
 },
 "nbformat": 4,
 "nbformat_minor": 5
}
