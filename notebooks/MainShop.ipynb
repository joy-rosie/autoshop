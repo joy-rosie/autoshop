{
 "cells": [
  {
   "cell_type": "code",
   "execution_count": null,
   "id": "1be238f1-2395-4f95-af66-28d1de0603c8",
   "metadata": {},
   "outputs": [],
   "source": [
    "import autoshop\n",
    "import pandas as pd"
   ]
  },
  {
   "cell_type": "code",
   "execution_count": null,
   "id": "090f4483",
   "metadata": {},
   "outputs": [],
   "source": [
    "pd.set_option(\"display.max_rows\", 1_000)"
   ]
  },
  {
   "cell_type": "code",
   "execution_count": null,
   "id": "086175c8",
   "metadata": {},
   "outputs": [],
   "source": [
    "df_food = autoshop.google.get_all_food()\n",
    "df_shop = autoshop.google.get_shop()\n",
    "df_food_conversion = autoshop.google.get_food_conversion()\n",
    "df_tesco_food_map_raw = autoshop.google.get_tesco_food_map()"
   ]
  },
  {
   "cell_type": "code",
   "execution_count": null,
   "id": "e51f90fa",
   "metadata": {},
   "outputs": [],
   "source": [
    "df_tesco_food_map = (\n",
    "    df_tesco_food_map_raw\n",
    "    .dropna(subset=[\"amount\"])\n",
    "    .reset_index(drop=True)\n",
    "    .assign(\n",
    "        unit=lambda x: x[\"unit\"].where(x[\"unit\"] != \"pack\", \"\"),\n",
    "        amountGram=lambda x: x[[\"amount\", \"unit\"]].apply(\n",
    "            lambda row: autoshop.unit.parse_to_grams(\n",
    "                amount=row[\"amount\"],\n",
    "                unit=row[\"unit\"], \n",
    "            ), \n",
    "            axis=1,\n",
    "        ),\n",
    "        amountMilliliter=lambda x: x[[\"amount\", \"unit\"]].apply(\n",
    "            lambda row: autoshop.unit.parse_to_milliliters(\n",
    "                amount=row[\"amount\"],\n",
    "                unit=row[\"unit\"],\n",
    "            ), \n",
    "            axis=1,\n",
    "        ),\n",
    "    )\n",
    "    [lambda x: x[\"amountMilliliter\"].isna()]\n",
    "    .drop(columns=[\"amountMilliliter\"])\n",
    ")"
   ]
  },
  {
   "cell_type": "code",
   "execution_count": null,
   "id": "bf06f085",
   "metadata": {},
   "outputs": [],
   "source": [
    "df_food_shop = (\n",
    "    df_shop\n",
    "    .merge(df_food_conversion, how=\"left\", on=[\"food\", \"unit\"])\n",
    "    .assign(\n",
    "        amountGram=lambda x: x[\"amount\"].where(x[\"unit\"] == \"g\", x[\"amount\"] * x[\"toGram\"]),\n",
    "        underlying=lambda x: x[\"amount\"].astype(str) + \" \" + x[\"unit\"],\n",
    "    )\n",
    "    .groupby([\"food\", \"nameFood\"])\n",
    "    .aggregate(\n",
    "        amountGram=pd.NamedAgg(column=\"amountGram\", aggfunc=lambda x: x.sum(skipna=False)),\n",
    "        underlying=pd.NamedAgg(column=\"underlying\", aggfunc=lambda x: \", \".join(x)),\n",
    "    )\n",
    "    .reset_index()\n",
    ")\n",
    "\n",
    "display(df_food_shop)"
   ]
  }
 ],
 "metadata": {
  "kernelspec": {
   "display_name": "Python 3 (ipykernel)",
   "language": "python",
   "name": "python3"
  },
  "language_info": {
   "codemirror_mode": {
    "name": "ipython",
    "version": 3
   },
   "file_extension": ".py",
   "mimetype": "text/x-python",
   "name": "python",
   "nbconvert_exporter": "python",
   "pygments_lexer": "ipython3",
   "version": "3.11.5"
  }
 },
 "nbformat": 4,
 "nbformat_minor": 5
}
