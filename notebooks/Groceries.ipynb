{
 "cells": [
  {
   "cell_type": "code",
   "execution_count": null,
   "id": "1be238f1-2395-4f95-af66-28d1de0603c8",
   "metadata": {},
   "outputs": [],
   "source": [
    "import autoshop"
   ]
  },
  {
   "cell_type": "code",
   "execution_count": null,
   "id": "92f8b1e6",
   "metadata": {},
   "outputs": [],
   "source": [
    "empty_basket = True"
   ]
  },
  {
   "cell_type": "markdown",
   "id": "7f699bd1-0833-4a9d-b4a4-ac640d783d09",
   "metadata": {},
   "source": [
    "## Login"
   ]
  },
  {
   "cell_type": "code",
   "execution_count": null,
   "id": "4c903a67-2afd-43d6-93ed-eac04bd52ff0",
   "metadata": {},
   "outputs": [],
   "source": [
    "driver = autoshop.chrome.driver()\n",
    "autoshop.tesco.login(driver=driver)\n",
    "autoshop.tesco.make_changes_to_first_order(driver=driver)"
   ]
  },
  {
   "cell_type": "code",
   "execution_count": null,
   "id": "d330dd8b-2dee-4aff-919a-6dc1f55ca1f1",
   "metadata": {},
   "outputs": [],
   "source": [
    "if empty_basket:\n",
    "    autoshop.tesco.empty_basket(driver=driver)"
   ]
  },
  {
   "cell_type": "code",
   "execution_count": null,
   "id": "560b0309-0653-401f-b0e0-0e909d4d1cbf",
   "metadata": {},
   "outputs": [],
   "source": [
    "# TODO: Need to add an assert here for date"
   ]
  },
  {
   "cell_type": "code",
   "execution_count": null,
   "id": "c4bbe725-1217-4413-9f1e-cfc24a7ec048",
   "metadata": {},
   "outputs": [],
   "source": [
    "groceries = autoshop.google.get_groceries()"
   ]
  },
  {
   "cell_type": "code",
   "execution_count": null,
   "id": "d48f8d27-3b36-4759-b9b8-c98b30ec60c9",
   "metadata": {},
   "outputs": [],
   "source": [
    "for _, row in groceries.iterrows():\n",
    "    name = row[\"nameFood\"]\n",
    "    url = row[\"url\"]\n",
    "    amount = row[\"amount\"]\n",
    "    description = row[\"unit\"]\n",
    "    not_required = row[\"notRequired\"].casefold() == \"true\"\n",
    "    \n",
    "    info = f\"{name=}, {url=}, {amount=}, {description=}, {not_required=}\"\n",
    "\n",
    "    if not_required:\n",
    "        autoshop.logger.debug(f\"Not required - {info=}\")\n",
    "    else:\n",
    "        autoshop.tesco.add_food_to_basket_with_retry(\n",
    "            driver=driver,\n",
    "            url=url,\n",
    "            amount=amount,\n",
    "            info=info,\n",
    "        )"
   ]
  }
 ],
 "metadata": {
  "kernelspec": {
   "display_name": "Python 3 (ipykernel)",
   "language": "python",
   "name": "python3"
  },
  "language_info": {
   "codemirror_mode": {
    "name": "ipython",
    "version": 3
   },
   "file_extension": ".py",
   "mimetype": "text/x-python",
   "name": "python",
   "nbconvert_exporter": "python",
   "pygments_lexer": "ipython3",
   "version": "3.11.5"
  }
 },
 "nbformat": 4,
 "nbformat_minor": 5
}
