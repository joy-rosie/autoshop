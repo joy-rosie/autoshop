{
 "cells": [
  {
   "cell_type": "code",
   "execution_count": 1,
   "id": "1be238f1-2395-4f95-af66-28d1de0603c8",
   "metadata": {},
   "outputs": [],
   "source": [
    "import autoshop"
   ]
  },
  {
   "cell_type": "code",
   "execution_count": null,
   "id": "92f8b1e6",
   "metadata": {},
   "outputs": [],
   "source": [
    "empty_basket = True"
   ]
  },
  {
   "cell_type": "markdown",
   "id": "7f699bd1-0833-4a9d-b4a4-ac640d783d09",
   "metadata": {},
   "source": [
    "## Login"
   ]
  },
  {
   "cell_type": "code",
   "execution_count": 2,
   "id": "4c903a67-2afd-43d6-93ed-eac04bd52ff0",
   "metadata": {},
   "outputs": [
    {
     "name": "stdout",
     "output_type": "stream",
     "text": [
      "2023-10-26 21:04:19.230 INFO environment - get_environment_variables: Loading from environment variables from path=WindowsPath('C:/code/python/autoshop/.env')\n",
      "2023-10-26 21:04:20.581 INFO tesco - login: Logging into via url='https://www.tesco.com/account/login/en-GB?from=/' with email='roseannaferguson@hotmail.com'\n"
     ]
    },
    {
     "ename": "TimeoutException",
     "evalue": "Message: \nStacktrace:\n\tGetHandleVerifier [0x00BE4DE3+43907]\n\t(No symbol) [0x00B70741]\n\t(No symbol) [0x00A633ED]\n\t(No symbol) [0x00A96760]\n\t(No symbol) [0x00A96C2B]\n\t(No symbol) [0x00AC6F62]\n\t(No symbol) [0x00AB2BA4]\n\t(No symbol) [0x00AC55CA]\n\t(No symbol) [0x00AB2956]\n\t(No symbol) [0x00A8E17E]\n\t(No symbol) [0x00A8F32D]\n\tGetHandleVerifier [0x00E95AF9+2865305]\n\tGetHandleVerifier [0x00EDE78B+3163435]\n\tGetHandleVerifier [0x00ED8441+3138017]\n\tGetHandleVerifier [0x00C6E0F0+605840]\n\t(No symbol) [0x00B7A64C]\n\t(No symbol) [0x00B76638]\n\t(No symbol) [0x00B7675F]\n\t(No symbol) [0x00B68DB7]\n\tBaseThreadInitThunk [0x74B17BA9+25]\n\tRtlInitializeExceptionChain [0x76EDBD3B+107]\n\tRtlClearBits [0x76EDBCBF+191]\n",
     "output_type": "error",
     "traceback": [
      "\u001b[1;31m---------------------------------------------------------------------------\u001b[0m",
      "\u001b[1;31mTimeoutException\u001b[0m                          Traceback (most recent call last)",
      "\u001b[1;32mc:\\code\\python\\autoshop\\notebooks\\Groceries.ipynb Cell 3\u001b[0m line \u001b[0;36m3\n\u001b[0;32m      <a href='vscode-notebook-cell:/c%3A/code/python/autoshop/notebooks/Groceries.ipynb#W2sZmlsZQ%3D%3D?line=0'>1</a>\u001b[0m driver \u001b[39m=\u001b[39m autoshop\u001b[39m.\u001b[39mchrome\u001b[39m.\u001b[39mdriver()\n\u001b[0;32m      <a href='vscode-notebook-cell:/c%3A/code/python/autoshop/notebooks/Groceries.ipynb#W2sZmlsZQ%3D%3D?line=1'>2</a>\u001b[0m autoshop\u001b[39m.\u001b[39mtesco\u001b[39m.\u001b[39mlogin(driver\u001b[39m=\u001b[39mdriver)\n\u001b[1;32m----> <a href='vscode-notebook-cell:/c%3A/code/python/autoshop/notebooks/Groceries.ipynb#W2sZmlsZQ%3D%3D?line=2'>3</a>\u001b[0m autoshop\u001b[39m.\u001b[39;49mtesco\u001b[39m.\u001b[39;49mmake_changes_to_first_order(driver\u001b[39m=\u001b[39;49mdriver)\n",
      "File \u001b[1;32mC:\\code\\python\\autoshop\\autoshop\\tesco\\tesco.py:208\u001b[0m, in \u001b[0;36mmake_changes_to_first_order\u001b[1;34m(driver)\u001b[0m\n\u001b[0;32m    206\u001b[0m go_to_orders(driver\u001b[39m=\u001b[39mdriver)\n\u001b[0;32m    207\u001b[0m xpath_make_changes \u001b[39m=\u001b[39m \u001b[39m\"\u001b[39m\u001b[39m//span[text()=\u001b[39m\u001b[39m'\u001b[39m\u001b[39mMake changes\u001b[39m\u001b[39m'\u001b[39m\u001b[39m]/..\u001b[39m\u001b[39m\"\u001b[39m\n\u001b[1;32m--> 208\u001b[0m elements \u001b[39m=\u001b[39m autoshop\u001b[39m.\u001b[39;49mselenium\u001b[39m.\u001b[39;49mwait_and_get_all(\n\u001b[0;32m    209\u001b[0m     driver\u001b[39m=\u001b[39;49mdriver,\n\u001b[0;32m    210\u001b[0m     value\u001b[39m=\u001b[39;49mxpath_make_changes,\n\u001b[0;32m    211\u001b[0m )\n\u001b[0;32m    213\u001b[0m \u001b[39m# Need to make this a bit better\u001b[39;00m\n\u001b[0;32m    214\u001b[0m elements[\u001b[39m0\u001b[39m]\u001b[39m.\u001b[39mclick()\n",
      "File \u001b[1;32mC:\\code\\python\\autoshop\\autoshop\\selenium\\selenium.py:73\u001b[0m, in \u001b[0;36mwait_and_get_all\u001b[1;34m(driver, value, by, timeout, log)\u001b[0m\n\u001b[0;32m     70\u001b[0m     LOGGER\u001b[39m.\u001b[39mdebug(\u001b[39mf\u001b[39m\u001b[39m\"\u001b[39m\u001b[39mwait_and_get_all \u001b[39m\u001b[39m{\u001b[39;00mby\u001b[39m=}\u001b[39;00m\u001b[39m, \u001b[39m\u001b[39m{\u001b[39;00mvalue\u001b[39m=}\u001b[39;00m\u001b[39m, \u001b[39m\u001b[39m{\u001b[39;00mtimeout\u001b[39m=}\u001b[39;00m\u001b[39m\"\u001b[39m)\n\u001b[0;32m     72\u001b[0m wait \u001b[39m=\u001b[39m expected_conditions\u001b[39m.\u001b[39mpresence_of_element_located((by, value))\n\u001b[1;32m---> 73\u001b[0m WebDriverWait(driver, timeout)\u001b[39m.\u001b[39;49muntil(wait)\n\u001b[0;32m     75\u001b[0m \u001b[39mif\u001b[39;00m log:\n\u001b[0;32m     76\u001b[0m     LOGGER\u001b[39m.\u001b[39mdebug(\u001b[39mf\u001b[39m\u001b[39m\"\u001b[39m\u001b[39mWaited to get all for: \u001b[39m\u001b[39m{\u001b[39;00mby\u001b[39m=}\u001b[39;00m\u001b[39m, \u001b[39m\u001b[39m{\u001b[39;00mvalue\u001b[39m=}\u001b[39;00m\u001b[39m\"\u001b[39m)\n",
      "File \u001b[1;32mc:\\Users\\joy\\miniconda3\\envs\\autoshop\\Lib\\site-packages\\selenium\\webdriver\\support\\wait.py:95\u001b[0m, in \u001b[0;36mWebDriverWait.until\u001b[1;34m(self, method, message)\u001b[0m\n\u001b[0;32m     93\u001b[0m     \u001b[39mif\u001b[39;00m time\u001b[39m.\u001b[39mmonotonic() \u001b[39m>\u001b[39m end_time:\n\u001b[0;32m     94\u001b[0m         \u001b[39mbreak\u001b[39;00m\n\u001b[1;32m---> 95\u001b[0m \u001b[39mraise\u001b[39;00m TimeoutException(message, screen, stacktrace)\n",
      "\u001b[1;31mTimeoutException\u001b[0m: Message: \nStacktrace:\n\tGetHandleVerifier [0x00BE4DE3+43907]\n\t(No symbol) [0x00B70741]\n\t(No symbol) [0x00A633ED]\n\t(No symbol) [0x00A96760]\n\t(No symbol) [0x00A96C2B]\n\t(No symbol) [0x00AC6F62]\n\t(No symbol) [0x00AB2BA4]\n\t(No symbol) [0x00AC55CA]\n\t(No symbol) [0x00AB2956]\n\t(No symbol) [0x00A8E17E]\n\t(No symbol) [0x00A8F32D]\n\tGetHandleVerifier [0x00E95AF9+2865305]\n\tGetHandleVerifier [0x00EDE78B+3163435]\n\tGetHandleVerifier [0x00ED8441+3138017]\n\tGetHandleVerifier [0x00C6E0F0+605840]\n\t(No symbol) [0x00B7A64C]\n\t(No symbol) [0x00B76638]\n\t(No symbol) [0x00B7675F]\n\t(No symbol) [0x00B68DB7]\n\tBaseThreadInitThunk [0x74B17BA9+25]\n\tRtlInitializeExceptionChain [0x76EDBD3B+107]\n\tRtlClearBits [0x76EDBCBF+191]\n"
     ]
    }
   ],
   "source": [
    "driver = autoshop.chrome.driver()\n",
    "autoshop.tesco.login(driver=driver)\n",
    "autoshop.tesco.make_changes_to_first_order(driver=driver)"
   ]
  },
  {
   "cell_type": "code",
   "execution_count": null,
   "id": "c97c4ef2-753b-47bd-9e17-70117294cbca",
   "metadata": {},
   "outputs": [],
   "source": [
    "# Need to sort this out\n",
    "xpath_day = \"//span[@class='day']\"\n",
    "element_day = autoshop.selenium.wait_and_get(driver=driver, value=xpath_day)\n",
    "\n",
    "xpath_date = \"//span[@class='date']\"\n",
    "element_date = autoshop.selenium.wait_and_get(driver=driver, value=xpath_date)\n",
    "\n",
    "xpath_month = \"//span[@class='month']\"\n",
    "element_month = autoshop.selenium.wait_and_get(driver=driver, value=xpath_month)\n",
    "\n",
    "autoshop.logger.warning(f\"Date Information: {element_day.text} {element_date.text} {element_month.text}\")"
   ]
  },
  {
   "cell_type": "code",
   "execution_count": null,
   "id": "d330dd8b-2dee-4aff-919a-6dc1f55ca1f1",
   "metadata": {},
   "outputs": [],
   "source": [
    "if empty_basket:\n",
    "    autoshop.tesco.empty_basket(driver=driver)"
   ]
  },
  {
   "cell_type": "code",
   "execution_count": null,
   "id": "560b0309-0653-401f-b0e0-0e909d4d1cbf",
   "metadata": {},
   "outputs": [],
   "source": [
    "# Need to add an assert here"
   ]
  },
  {
   "cell_type": "code",
   "execution_count": 3,
   "id": "c4bbe725-1217-4413-9f1e-cfc24a7ec048",
   "metadata": {},
   "outputs": [
    {
     "name": "stdout",
     "output_type": "stream",
     "text": [
      "2023-10-26 21:05:07.502 INFO google - get_raw: Requesting from url='https://sheets.googleapis.com/v4/spreadsheets/1qMt1jKFf3OVILmA-MsQ8Ga-8vsYLsCX0ky00zairf9M/values/groceries!A1:G1000'\n"
     ]
    }
   ],
   "source": [
    "groceries = autoshop.google.get_groceries()"
   ]
  },
  {
   "cell_type": "code",
   "execution_count": 4,
   "id": "d48f8d27-3b36-4759-b9b8-c98b30ec60c9",
   "metadata": {},
   "outputs": [
    {
     "name": "stdout",
     "output_type": "stream",
     "text": [
      "2023-10-26 21:05:24.211 ERROR tesco - add_food_to_basket_with_retry: Out of stock - name='Gouda', url='https://www.tesco.com/groceries/en-GB/products/264640172', amount='1', description='350g pack', not_required=False\n",
      "2023-10-26 21:07:23.219 ERROR tesco - add_food_to_basket_with_retry: Out of stock - name='Skyr Big Pot Yoghurt Sour Cherry', url='https://www.tesco.com/groceries/en-GB/products/309469905', amount='1', description='450g pot', not_required=False\n"
     ]
    }
   ],
   "source": [
    "for _, row in groceries.iterrows():\n",
    "    name = row[\"nameFood\"]\n",
    "    url = row[\"url\"]\n",
    "    amount = row[\"amount\"]\n",
    "    description = row[\"unit\"]\n",
    "    not_required = row[\"notRequired\"].casefold() == \"true\"\n",
    "    \n",
    "    info = f\"{name=}, {url=}, {amount=}, {description=}, {not_required=}\"\n",
    "\n",
    "    if not_required:\n",
    "        autoshop.logger.debug(f\"Not required - {info=}\")\n",
    "    else:\n",
    "        autoshop.tesco.add_food_to_basket_with_retry(\n",
    "            driver=driver,\n",
    "            url=url,\n",
    "            amount=amount,\n",
    "            info=info,\n",
    "        )"
   ]
  }
 ],
 "metadata": {
  "kernelspec": {
   "display_name": "Python 3 (ipykernel)",
   "language": "python",
   "name": "python3"
  },
  "language_info": {
   "codemirror_mode": {
    "name": "ipython",
    "version": 3
   },
   "file_extension": ".py",
   "mimetype": "text/x-python",
   "name": "python",
   "nbconvert_exporter": "python",
   "pygments_lexer": "ipython3",
   "version": "3.11.5"
  }
 },
 "nbformat": 4,
 "nbformat_minor": 5
}
