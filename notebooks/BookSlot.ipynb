{
 "cells": [
  {
   "cell_type": "markdown",
   "id": "e9475df6-024d-4d11-942f-38de05cb89e3",
   "metadata": {},
   "source": [
    "## Imports"
   ]
  },
  {
   "cell_type": "code",
   "execution_count": 1,
   "id": "e3c27e1b-7c40-463a-b42c-fb8a5f83e6ec",
   "metadata": {},
   "outputs": [],
   "source": [
    "import datetime\n",
    "import time\n",
    "import zoneinfo\n",
    "\n",
    "import autoshop"
   ]
  },
  {
   "cell_type": "markdown",
   "id": "13ba46bd-696f-45be-8f7a-f03f7be3c92a",
   "metadata": {},
   "source": [
    "## Login"
   ]
  },
  {
   "cell_type": "code",
   "execution_count": 2,
   "id": "5e9a7fef-ff8b-44c1-b029-66ab5329b299",
   "metadata": {},
   "outputs": [],
   "source": [
    "driver = autoshop.chrome.driver()"
   ]
  },
  {
   "cell_type": "code",
   "execution_count": 3,
   "id": "d923ce40",
   "metadata": {},
   "outputs": [
    {
     "name": "stdout",
     "output_type": "stream",
     "text": [
      "2024-09-07 17:07:41.034 INFO environment - get_environment_variables: Loading from environment variables from path=WindowsPath('C:/code/python/autoshop/.env')\n",
      "2024-09-07 17:07:41.525 INFO tesco - login: Logging into via url='https://www.tesco.com/account/login/en-GB?from=/' with email='roseannaferguson@hotmail.com'\n"
     ]
    },
    {
     "data": {
      "text/plain": [
       "<undetected_chromedriver.Chrome (session=\"f94bb0bbc7a7ebcc9182559add8f3770\")>"
      ]
     },
     "execution_count": 3,
     "metadata": {},
     "output_type": "execute_result"
    }
   ],
   "source": [
    "autoshop.tesco.login(driver=driver)"
   ]
  },
  {
   "cell_type": "markdown",
   "id": "e09b7e3b-d6f5-4146-952f-73a5ca276ec8",
   "metadata": {},
   "source": [
    "## Go to book a slot"
   ]
  },
  {
   "cell_type": "code",
   "execution_count": 4,
   "id": "b46fee81-2210-4aa1-b917-4a451b386a5b",
   "metadata": {},
   "outputs": [],
   "source": [
    "xpath_book_another_slot = \"//a//span[text()='Book a slot']/..\"\n",
    "autoshop.selenium.wait_and_execute_click(driver=driver, value=xpath_book_another_slot)"
   ]
  },
  {
   "cell_type": "code",
   "execution_count": 5,
   "id": "4d0f54f0-1af7-44a9-bc3c-dd39e7568650",
   "metadata": {},
   "outputs": [],
   "source": [
    "autoshop.tesco.go_to_delivery_slots(driver=driver)"
   ]
  },
  {
   "cell_type": "markdown",
   "id": "c4f24d2b-62a8-499a-b534-5637337a208a",
   "metadata": {},
   "source": [
    "## Book the slot"
   ]
  },
  {
   "cell_type": "markdown",
   "id": "3b81defa-faaf-4dd2-af86-6b2ade882542",
   "metadata": {},
   "source": [
    "### Find the correct week"
   ]
  },
  {
   "cell_type": "code",
   "execution_count": 6,
   "id": "a661cf98-29d6-4de1-85e0-5ec661048d9e",
   "metadata": {},
   "outputs": [
    {
     "name": "stdout",
     "output_type": "stream",
     "text": [
      "2024-09-07 17:08:12.005 INFO 3417313262 - <module>: \n",
      "start_week_third=2024-09-28\n",
      "  end_week_third=2024-10-04\n",
      "2024-09-07 17:08:12.005 INFO 3417313262 - <module>: xpath_week_third=\n",
      "\"//span[text()='28 Sep-4 Oct']\"\n"
     ]
    },
    {
     "ename": "TimeoutException",
     "evalue": "Message: \nStacktrace:\n\tGetHandleVerifier [0x01058213+26163]\n\t(No symbol) [0x00FE9CC4]\n\t(No symbol) [0x00EE24C3]\n\t(No symbol) [0x00F27453]\n\t(No symbol) [0x00F2762B]\n\t(No symbol) [0x00F66B62]\n\t(No symbol) [0x00F4AD04]\n\t(No symbol) [0x00F64661]\n\t(No symbol) [0x00F4AA56]\n\t(No symbol) [0x00F1BE89]\n\t(No symbol) [0x00F1C8CD]\n\tGetHandleVerifier [0x0132D313+2996019]\n\tGetHandleVerifier [0x01381B89+3342249]\n\tGetHandleVerifier [0x010E7AEF+614159]\n\tGetHandleVerifier [0x010EF17C+644508]\n\t(No symbol) [0x00FF27FD]\n\t(No symbol) [0x00FEF6F8]\n\t(No symbol) [0x00FEF895]\n\t(No symbol) [0x00FE1C16]\n\tBaseThreadInitThunk [0x75957BA9+25]\n\tRtlInitializeExceptionChain [0x7711C10B+107]\n\tRtlClearBits [0x7711C08F+191]\n",
     "output_type": "error",
     "traceback": [
      "\u001b[1;31m---------------------------------------------------------------------------\u001b[0m",
      "\u001b[1;31mTimeoutException\u001b[0m                          Traceback (most recent call last)",
      "Cell \u001b[1;32mIn[6], line 27\u001b[0m\n\u001b[0;32m     20\u001b[0m     xpath_week_third \u001b[38;5;241m=\u001b[39m  (\n\u001b[0;32m     21\u001b[0m         \u001b[38;5;124mf\u001b[39m\u001b[38;5;124m\"\u001b[39m\u001b[38;5;124m//span[text()=\u001b[39m\u001b[38;5;124m'\u001b[39m\u001b[38;5;132;01m{\u001b[39;00mstart_week_third\u001b[38;5;241m.\u001b[39mday\u001b[38;5;132;01m:\u001b[39;00m\u001b[38;5;132;01m{\u001b[39;00mformat_day\u001b[38;5;132;01m}\u001b[39;00m\u001b[38;5;132;01m}\u001b[39;00m\u001b[38;5;124m \u001b[39m\u001b[38;5;132;01m{\u001b[39;00mstart_week_third_month\u001b[38;5;132;01m}\u001b[39;00m\u001b[38;5;124m-\u001b[39m\u001b[38;5;132;01m{\u001b[39;00mend_week_third\u001b[38;5;241m.\u001b[39mday\u001b[38;5;132;01m:\u001b[39;00m\u001b[38;5;132;01m{\u001b[39;00mformat_day\u001b[38;5;132;01m}\u001b[39;00m\u001b[38;5;132;01m}\u001b[39;00m\u001b[38;5;124m \u001b[39m\u001b[38;5;132;01m{\u001b[39;00mend_week_third_month\u001b[38;5;132;01m}\u001b[39;00m\u001b[38;5;124m'\u001b[39m\u001b[38;5;124m]\u001b[39m\u001b[38;5;124m\"\u001b[39m\n\u001b[0;32m     22\u001b[0m     )\n\u001b[0;32m     24\u001b[0m autoshop\u001b[38;5;241m.\u001b[39mlogger\u001b[38;5;241m.\u001b[39minfo(\u001b[38;5;124mf\u001b[39m\u001b[38;5;124m\"\"\"\u001b[39m\u001b[38;5;132;01m{\u001b[39;00mxpath_week_third\u001b[38;5;132;01m=\u001b[39;00m\n\u001b[0;32m     25\u001b[0m \u001b[38;5;132;01m}\u001b[39;00m\u001b[38;5;124m\"\"\"\u001b[39m)\n\u001b[1;32m---> 27\u001b[0m \u001b[43mautoshop\u001b[49m\u001b[38;5;241;43m.\u001b[39;49m\u001b[43mselenium\u001b[49m\u001b[38;5;241;43m.\u001b[39;49m\u001b[43mwait_and_click\u001b[49m\u001b[43m(\u001b[49m\u001b[43mdriver\u001b[49m\u001b[38;5;241;43m=\u001b[39;49m\u001b[43mdriver\u001b[49m\u001b[43m,\u001b[49m\u001b[43m \u001b[49m\u001b[43mvalue\u001b[49m\u001b[38;5;241;43m=\u001b[39;49m\u001b[43mxpath_week_third\u001b[49m\u001b[43m)\u001b[49m\n",
      "File \u001b[1;32mC:\\code\\python\\autoshop\\autoshop\\selenium\\selenium.py:126\u001b[0m, in \u001b[0;36mwait_and_click\u001b[1;34m(driver, value, by, timeout, log)\u001b[0m\n\u001b[0;32m    115\u001b[0m \u001b[38;5;28;01mdef\u001b[39;00m \u001b[38;5;21mwait_and_click\u001b[39m(\n\u001b[0;32m    116\u001b[0m     driver: autoshop\u001b[38;5;241m.\u001b[39mtyping\u001b[38;5;241m.\u001b[39mWebDriver,\n\u001b[0;32m    117\u001b[0m     value: \u001b[38;5;28mstr\u001b[39m,\n\u001b[1;32m   (...)\u001b[0m\n\u001b[0;32m    120\u001b[0m     log: Optional[\u001b[38;5;28mbool\u001b[39m] \u001b[38;5;241m=\u001b[39m \u001b[38;5;28;01mNone\u001b[39;00m,\n\u001b[0;32m    121\u001b[0m ) \u001b[38;5;241m-\u001b[39m\u001b[38;5;241m>\u001b[39m NoReturn:\n\u001b[0;32m    122\u001b[0m \u001b[38;5;250m    \u001b[39m\u001b[38;5;124;03m\"\"\"\u001b[39;00m\n\u001b[0;32m    123\u001b[0m \u001b[38;5;124;03m    Waits and clicks the first element found via itself.\u001b[39;00m\n\u001b[0;32m    124\u001b[0m \u001b[38;5;124;03m    \"\"\"\u001b[39;00m\n\u001b[1;32m--> 126\u001b[0m     element \u001b[38;5;241m=\u001b[39m \u001b[43mwait_and_get\u001b[49m\u001b[43m(\u001b[49m\u001b[43mdriver\u001b[49m\u001b[38;5;241;43m=\u001b[39;49m\u001b[43mdriver\u001b[49m\u001b[43m,\u001b[49m\u001b[43m \u001b[49m\u001b[43mvalue\u001b[49m\u001b[38;5;241;43m=\u001b[39;49m\u001b[43mvalue\u001b[49m\u001b[43m,\u001b[49m\u001b[43m \u001b[49m\u001b[43mby\u001b[49m\u001b[38;5;241;43m=\u001b[39;49m\u001b[43mby\u001b[49m\u001b[43m,\u001b[49m\u001b[43m \u001b[49m\u001b[43mtimeout\u001b[49m\u001b[38;5;241;43m=\u001b[39;49m\u001b[43mtimeout\u001b[49m\u001b[43m,\u001b[49m\u001b[43m \u001b[49m\u001b[43mlog\u001b[49m\u001b[38;5;241;43m=\u001b[39;49m\u001b[43mlog\u001b[49m\u001b[43m)\u001b[49m\n\u001b[0;32m    127\u001b[0m     element\u001b[38;5;241m.\u001b[39mclick()\n\u001b[0;32m    129\u001b[0m     \u001b[38;5;28;01mif\u001b[39;00m log \u001b[38;5;129;01mis\u001b[39;00m \u001b[38;5;28;01mNone\u001b[39;00m:\n",
      "File \u001b[1;32mC:\\code\\python\\autoshop\\autoshop\\selenium\\selenium.py:71\u001b[0m, in \u001b[0;36mwait_and_get\u001b[1;34m(driver, value, by, timeout, log)\u001b[0m\n\u001b[0;32m     68\u001b[0m     LOGGER\u001b[38;5;241m.\u001b[39mdebug(\u001b[38;5;124mf\u001b[39m\u001b[38;5;124m\"\u001b[39m\u001b[38;5;132;01m{\u001b[39;00mwait_and_get\u001b[38;5;241m.\u001b[39m\u001b[38;5;18m__name__\u001b[39m\u001b[38;5;132;01m}\u001b[39;00m\u001b[38;5;124m \u001b[39m\u001b[38;5;132;01m{\u001b[39;00mby\u001b[38;5;132;01m=}\u001b[39;00m\u001b[38;5;124m, \u001b[39m\u001b[38;5;132;01m{\u001b[39;00mvalue\u001b[38;5;132;01m=}\u001b[39;00m\u001b[38;5;124m, \u001b[39m\u001b[38;5;132;01m{\u001b[39;00mtimeout\u001b[38;5;132;01m=}\u001b[39;00m\u001b[38;5;124m\"\u001b[39m)\n\u001b[0;32m     70\u001b[0m wait \u001b[38;5;241m=\u001b[39m expected_conditions\u001b[38;5;241m.\u001b[39mpresence_of_element_located((by, value))\n\u001b[1;32m---> 71\u001b[0m \u001b[43mWebDriverWait\u001b[49m\u001b[43m(\u001b[49m\u001b[43mdriver\u001b[49m\u001b[43m,\u001b[49m\u001b[43m \u001b[49m\u001b[43mtimeout\u001b[49m\u001b[43m)\u001b[49m\u001b[38;5;241;43m.\u001b[39;49m\u001b[43muntil\u001b[49m\u001b[43m(\u001b[49m\u001b[43mwait\u001b[49m\u001b[43m)\u001b[49m\n\u001b[0;32m     73\u001b[0m \u001b[38;5;28;01mif\u001b[39;00m log:\n\u001b[0;32m     74\u001b[0m     LOGGER\u001b[38;5;241m.\u001b[39mdebug(\u001b[38;5;124mf\u001b[39m\u001b[38;5;124m\"\u001b[39m\u001b[38;5;124mWaited for: \u001b[39m\u001b[38;5;132;01m{\u001b[39;00mby\u001b[38;5;132;01m=}\u001b[39;00m\u001b[38;5;124m, \u001b[39m\u001b[38;5;132;01m{\u001b[39;00mvalue\u001b[38;5;132;01m=}\u001b[39;00m\u001b[38;5;124m\"\u001b[39m)\n",
      "File \u001b[1;32mc:\\Users\\joy\\miniconda3\\envs\\autoshop\\Lib\\site-packages\\selenium\\webdriver\\support\\wait.py:105\u001b[0m, in \u001b[0;36mWebDriverWait.until\u001b[1;34m(self, method, message)\u001b[0m\n\u001b[0;32m    103\u001b[0m     \u001b[38;5;28;01mif\u001b[39;00m time\u001b[38;5;241m.\u001b[39mmonotonic() \u001b[38;5;241m>\u001b[39m end_time:\n\u001b[0;32m    104\u001b[0m         \u001b[38;5;28;01mbreak\u001b[39;00m\n\u001b[1;32m--> 105\u001b[0m \u001b[38;5;28;01mraise\u001b[39;00m TimeoutException(message, screen, stacktrace)\n",
      "\u001b[1;31mTimeoutException\u001b[0m: Message: \nStacktrace:\n\tGetHandleVerifier [0x01058213+26163]\n\t(No symbol) [0x00FE9CC4]\n\t(No symbol) [0x00EE24C3]\n\t(No symbol) [0x00F27453]\n\t(No symbol) [0x00F2762B]\n\t(No symbol) [0x00F66B62]\n\t(No symbol) [0x00F4AD04]\n\t(No symbol) [0x00F64661]\n\t(No symbol) [0x00F4AA56]\n\t(No symbol) [0x00F1BE89]\n\t(No symbol) [0x00F1C8CD]\n\tGetHandleVerifier [0x0132D313+2996019]\n\tGetHandleVerifier [0x01381B89+3342249]\n\tGetHandleVerifier [0x010E7AEF+614159]\n\tGetHandleVerifier [0x010EF17C+644508]\n\t(No symbol) [0x00FF27FD]\n\t(No symbol) [0x00FEF6F8]\n\t(No symbol) [0x00FEF895]\n\t(No symbol) [0x00FE1C16]\n\tBaseThreadInitThunk [0x75957BA9+25]\n\tRtlInitializeExceptionChain [0x7711C10B+107]\n\tRtlClearBits [0x7711C08F+191]\n"
     ]
    }
   ],
   "source": [
    "now = datetime.datetime.now(tz=zoneinfo.ZoneInfo(\"Europe/London\"))\n",
    "\n",
    "start_week_third = now + datetime.timedelta(days=3 * 7)\n",
    "end_week_third = start_week_third + datetime.timedelta(days=6)\n",
    "\n",
    "autoshop.logger.info(f\"\"\"\n",
    "{start_week_third=:%Y-%m-%d}\n",
    "  {end_week_third=:%Y-%m-%d}\"\"\")\n",
    "\n",
    "start_week_third_month = f\"{start_week_third:%b}\"\n",
    "end_week_third_month = f\"{end_week_third:%b}\"\n",
    "\n",
    "format_day = \"01d\"\n",
    "\n",
    "if start_week_third.month == end_week_third.month:\n",
    "    xpath_week_third =  (\n",
    "        f\"//span[text()='{start_week_third.day:{format_day}}-{end_week_third.day:{format_day}} {end_week_third_month}']\"\n",
    "    )\n",
    "else:\n",
    "    xpath_week_third =  (\n",
    "        f\"//span[text()='{start_week_third.day:{format_day}} {start_week_third_month}-{end_week_third.day:{format_day}} {end_week_third_month}']\"\n",
    "    )\n",
    "\n",
    "autoshop.logger.info(f\"\"\"{xpath_week_third=\n",
    "}\"\"\")\n",
    "\n",
    "autoshop.selenium.wait_and_click(driver=driver, value=xpath_week_third)"
   ]
  },
  {
   "cell_type": "markdown",
   "id": "fac1a76c-2517-46af-8d3a-6ee96ab97449",
   "metadata": {},
   "source": [
    "### Find the correct date and time"
   ]
  },
  {
   "cell_type": "code",
   "execution_count": 7,
   "id": "26283d84-044b-463f-8b1e-641f6ab0d840",
   "metadata": {},
   "outputs": [
    {
     "name": "stdout",
     "output_type": "stream",
     "text": [
      "2024-09-07 17:08:29.214 INFO 1765009053 - <module>: \n",
      "datetime_slot_start=2024-09-28 09:00\n",
      "  datetime_slot_end=2024-09-28 10:00\n",
      "\n",
      "2024-09-07 17:08:29.215 INFO 1765009053 - <module>: xpath_slot_saturday=\n",
      "\"//span[starts-with(text(), 'Saturday 28') and contains(text(), ' September, Between 9am - 10am.')]/..\"\n"
     ]
    },
    {
     "ename": "TimeoutException",
     "evalue": "Message: \nStacktrace:\n\tGetHandleVerifier [0x01058213+26163]\n\t(No symbol) [0x00FE9CC4]\n\t(No symbol) [0x00EE24C3]\n\t(No symbol) [0x00F27453]\n\t(No symbol) [0x00F2762B]\n\t(No symbol) [0x00F66B62]\n\t(No symbol) [0x00F4AD04]\n\t(No symbol) [0x00F64661]\n\t(No symbol) [0x00F4AA56]\n\t(No symbol) [0x00F1BE89]\n\t(No symbol) [0x00F1C8CD]\n\tGetHandleVerifier [0x0132D313+2996019]\n\tGetHandleVerifier [0x01381B89+3342249]\n\tGetHandleVerifier [0x010E7AEF+614159]\n\tGetHandleVerifier [0x010EF17C+644508]\n\t(No symbol) [0x00FF27FD]\n\t(No symbol) [0x00FEF6F8]\n\t(No symbol) [0x00FEF895]\n\t(No symbol) [0x00FE1C16]\n\tBaseThreadInitThunk [0x75957BA9+25]\n\tRtlInitializeExceptionChain [0x7711C10B+107]\n\tRtlClearBits [0x7711C08F+191]\n",
     "output_type": "error",
     "traceback": [
      "\u001b[1;31m---------------------------------------------------------------------------\u001b[0m",
      "\u001b[1;31mTimeoutException\u001b[0m                          Traceback (most recent call last)",
      "Cell \u001b[1;32mIn[7], line 22\u001b[0m\n\u001b[0;32m     15\u001b[0m xpath_slot_saturday \u001b[38;5;241m=\u001b[39m (\n\u001b[0;32m     16\u001b[0m     \u001b[38;5;124mf\u001b[39m\u001b[38;5;124m\"\u001b[39m\u001b[38;5;124m//span[starts-with(text(), \u001b[39m\u001b[38;5;124m'\u001b[39m\u001b[38;5;132;01m{\u001b[39;00mdatetime_slot_start\u001b[38;5;132;01m:\u001b[39;00m\u001b[38;5;124m%A\u001b[39m\u001b[38;5;132;01m}\u001b[39;00m\u001b[38;5;124m \u001b[39m\u001b[38;5;132;01m{\u001b[39;00mdatetime_slot_start\u001b[38;5;241m.\u001b[39mday\u001b[38;5;132;01m}\u001b[39;00m\u001b[38;5;124m'\u001b[39m\u001b[38;5;124m) \u001b[39m\u001b[38;5;124m\"\u001b[39m\n\u001b[0;32m     17\u001b[0m     \u001b[38;5;124mf\u001b[39m\u001b[38;5;124m\"\u001b[39m\u001b[38;5;124mand contains(text(), \u001b[39m\u001b[38;5;124m'\u001b[39m\u001b[38;5;124m \u001b[39m\u001b[38;5;132;01m{\u001b[39;00mdatetime_slot_start\u001b[38;5;132;01m:\u001b[39;00m\u001b[38;5;124m%B\u001b[39m\u001b[38;5;132;01m}\u001b[39;00m\u001b[38;5;124m, Between \u001b[39m\u001b[38;5;132;01m{\u001b[39;00mtime_start\u001b[38;5;132;01m}\u001b[39;00m\u001b[38;5;124m - \u001b[39m\u001b[38;5;132;01m{\u001b[39;00mtime_end\u001b[38;5;132;01m}\u001b[39;00m\u001b[38;5;124m.\u001b[39m\u001b[38;5;124m'\u001b[39m\u001b[38;5;124m)]/..\u001b[39m\u001b[38;5;124m\"\u001b[39m\n\u001b[0;32m     18\u001b[0m )\n\u001b[0;32m     19\u001b[0m autoshop\u001b[38;5;241m.\u001b[39mlogger\u001b[38;5;241m.\u001b[39minfo(\u001b[38;5;124mf\u001b[39m\u001b[38;5;124m\"\"\"\u001b[39m\u001b[38;5;132;01m{\u001b[39;00mxpath_slot_saturday\u001b[38;5;132;01m=\u001b[39;00m\n\u001b[0;32m     20\u001b[0m \u001b[38;5;132;01m}\u001b[39;00m\u001b[38;5;124m\"\"\"\u001b[39m)\n\u001b[1;32m---> 22\u001b[0m element_slot_button \u001b[38;5;241m=\u001b[39m \u001b[43mautoshop\u001b[49m\u001b[38;5;241;43m.\u001b[39;49m\u001b[43mselenium\u001b[49m\u001b[38;5;241;43m.\u001b[39;49m\u001b[43mwait_and_execute_click\u001b[49m\u001b[43m(\u001b[49m\u001b[43mdriver\u001b[49m\u001b[38;5;241;43m=\u001b[39;49m\u001b[43mdriver\u001b[49m\u001b[43m,\u001b[49m\u001b[43m \u001b[49m\u001b[43mvalue\u001b[49m\u001b[38;5;241;43m=\u001b[39;49m\u001b[43mxpath_slot_saturday\u001b[49m\u001b[43m)\u001b[49m\n",
      "File \u001b[1;32mC:\\code\\python\\autoshop\\autoshop\\selenium\\selenium.py:147\u001b[0m, in \u001b[0;36mwait_and_execute_click\u001b[1;34m(driver, value, by, timeout, log)\u001b[0m\n\u001b[0;32m    136\u001b[0m \u001b[38;5;28;01mdef\u001b[39;00m \u001b[38;5;21mwait_and_execute_click\u001b[39m(\n\u001b[0;32m    137\u001b[0m     driver: autoshop\u001b[38;5;241m.\u001b[39mtyping\u001b[38;5;241m.\u001b[39mWebDriver,\n\u001b[0;32m    138\u001b[0m     value: \u001b[38;5;28mstr\u001b[39m,\n\u001b[1;32m   (...)\u001b[0m\n\u001b[0;32m    141\u001b[0m     log: Optional[\u001b[38;5;28mbool\u001b[39m] \u001b[38;5;241m=\u001b[39m \u001b[38;5;28;01mNone\u001b[39;00m,\n\u001b[0;32m    142\u001b[0m ) \u001b[38;5;241m-\u001b[39m\u001b[38;5;241m>\u001b[39m NoReturn:\n\u001b[0;32m    143\u001b[0m \u001b[38;5;250m    \u001b[39m\u001b[38;5;124;03m\"\"\"\u001b[39;00m\n\u001b[0;32m    144\u001b[0m \u001b[38;5;124;03m    Waits and clicks the first element found via javascript.\u001b[39;00m\n\u001b[0;32m    145\u001b[0m \u001b[38;5;124;03m    \"\"\"\u001b[39;00m\n\u001b[1;32m--> 147\u001b[0m     element \u001b[38;5;241m=\u001b[39m \u001b[43mwait_and_get\u001b[49m\u001b[43m(\u001b[49m\u001b[43mdriver\u001b[49m\u001b[38;5;241;43m=\u001b[39;49m\u001b[43mdriver\u001b[49m\u001b[43m,\u001b[49m\u001b[43m \u001b[49m\u001b[43mvalue\u001b[49m\u001b[38;5;241;43m=\u001b[39;49m\u001b[43mvalue\u001b[49m\u001b[43m,\u001b[49m\u001b[43m \u001b[49m\u001b[43mby\u001b[49m\u001b[38;5;241;43m=\u001b[39;49m\u001b[43mby\u001b[49m\u001b[43m,\u001b[49m\u001b[43m \u001b[49m\u001b[43mtimeout\u001b[49m\u001b[38;5;241;43m=\u001b[39;49m\u001b[43mtimeout\u001b[49m\u001b[43m,\u001b[49m\u001b[43m \u001b[49m\u001b[43mlog\u001b[49m\u001b[38;5;241;43m=\u001b[39;49m\u001b[43mlog\u001b[49m\u001b[43m)\u001b[49m\n\u001b[0;32m    148\u001b[0m     driver\u001b[38;5;241m.\u001b[39mexecute_script(\u001b[38;5;124m\"\u001b[39m\u001b[38;5;124marguments[0].click();\u001b[39m\u001b[38;5;124m\"\u001b[39m, element)\n\u001b[0;32m    150\u001b[0m     \u001b[38;5;28;01mif\u001b[39;00m log \u001b[38;5;129;01mis\u001b[39;00m \u001b[38;5;28;01mNone\u001b[39;00m:\n",
      "File \u001b[1;32mC:\\code\\python\\autoshop\\autoshop\\selenium\\selenium.py:71\u001b[0m, in \u001b[0;36mwait_and_get\u001b[1;34m(driver, value, by, timeout, log)\u001b[0m\n\u001b[0;32m     68\u001b[0m     LOGGER\u001b[38;5;241m.\u001b[39mdebug(\u001b[38;5;124mf\u001b[39m\u001b[38;5;124m\"\u001b[39m\u001b[38;5;132;01m{\u001b[39;00mwait_and_get\u001b[38;5;241m.\u001b[39m\u001b[38;5;18m__name__\u001b[39m\u001b[38;5;132;01m}\u001b[39;00m\u001b[38;5;124m \u001b[39m\u001b[38;5;132;01m{\u001b[39;00mby\u001b[38;5;132;01m=}\u001b[39;00m\u001b[38;5;124m, \u001b[39m\u001b[38;5;132;01m{\u001b[39;00mvalue\u001b[38;5;132;01m=}\u001b[39;00m\u001b[38;5;124m, \u001b[39m\u001b[38;5;132;01m{\u001b[39;00mtimeout\u001b[38;5;132;01m=}\u001b[39;00m\u001b[38;5;124m\"\u001b[39m)\n\u001b[0;32m     70\u001b[0m wait \u001b[38;5;241m=\u001b[39m expected_conditions\u001b[38;5;241m.\u001b[39mpresence_of_element_located((by, value))\n\u001b[1;32m---> 71\u001b[0m \u001b[43mWebDriverWait\u001b[49m\u001b[43m(\u001b[49m\u001b[43mdriver\u001b[49m\u001b[43m,\u001b[49m\u001b[43m \u001b[49m\u001b[43mtimeout\u001b[49m\u001b[43m)\u001b[49m\u001b[38;5;241;43m.\u001b[39;49m\u001b[43muntil\u001b[49m\u001b[43m(\u001b[49m\u001b[43mwait\u001b[49m\u001b[43m)\u001b[49m\n\u001b[0;32m     73\u001b[0m \u001b[38;5;28;01mif\u001b[39;00m log:\n\u001b[0;32m     74\u001b[0m     LOGGER\u001b[38;5;241m.\u001b[39mdebug(\u001b[38;5;124mf\u001b[39m\u001b[38;5;124m\"\u001b[39m\u001b[38;5;124mWaited for: \u001b[39m\u001b[38;5;132;01m{\u001b[39;00mby\u001b[38;5;132;01m=}\u001b[39;00m\u001b[38;5;124m, \u001b[39m\u001b[38;5;132;01m{\u001b[39;00mvalue\u001b[38;5;132;01m=}\u001b[39;00m\u001b[38;5;124m\"\u001b[39m)\n",
      "File \u001b[1;32mc:\\Users\\joy\\miniconda3\\envs\\autoshop\\Lib\\site-packages\\selenium\\webdriver\\support\\wait.py:105\u001b[0m, in \u001b[0;36mWebDriverWait.until\u001b[1;34m(self, method, message)\u001b[0m\n\u001b[0;32m    103\u001b[0m     \u001b[38;5;28;01mif\u001b[39;00m time\u001b[38;5;241m.\u001b[39mmonotonic() \u001b[38;5;241m>\u001b[39m end_time:\n\u001b[0;32m    104\u001b[0m         \u001b[38;5;28;01mbreak\u001b[39;00m\n\u001b[1;32m--> 105\u001b[0m \u001b[38;5;28;01mraise\u001b[39;00m TimeoutException(message, screen, stacktrace)\n",
      "\u001b[1;31mTimeoutException\u001b[0m: Message: \nStacktrace:\n\tGetHandleVerifier [0x01058213+26163]\n\t(No symbol) [0x00FE9CC4]\n\t(No symbol) [0x00EE24C3]\n\t(No symbol) [0x00F27453]\n\t(No symbol) [0x00F2762B]\n\t(No symbol) [0x00F66B62]\n\t(No symbol) [0x00F4AD04]\n\t(No symbol) [0x00F64661]\n\t(No symbol) [0x00F4AA56]\n\t(No symbol) [0x00F1BE89]\n\t(No symbol) [0x00F1C8CD]\n\tGetHandleVerifier [0x0132D313+2996019]\n\tGetHandleVerifier [0x01381B89+3342249]\n\tGetHandleVerifier [0x010E7AEF+614159]\n\tGetHandleVerifier [0x010EF17C+644508]\n\t(No symbol) [0x00FF27FD]\n\t(No symbol) [0x00FEF6F8]\n\t(No symbol) [0x00FEF895]\n\t(No symbol) [0x00FE1C16]\n\tBaseThreadInitThunk [0x75957BA9+25]\n\tRtlInitializeExceptionChain [0x7711C10B+107]\n\tRtlClearBits [0x7711C08F+191]\n"
     ]
    }
   ],
   "source": [
    "days_to_saturday = (5 - start_week_third.weekday()) % 7\n",
    "date_saturday = start_week_third + datetime.timedelta(days=days_to_saturday)\n",
    "\n",
    "datetime_slot_start = date_saturday.replace(hour=9, minute=0, second=0)\n",
    "datetime_slot_end = datetime_slot_start + datetime.timedelta(hours=1)\n",
    "\n",
    "autoshop.logger.info(f\"\"\"\n",
    "{datetime_slot_start=:%Y-%m-%d %H:%M}\n",
    "  {datetime_slot_end=:%Y-%m-%d %H:%M}\n",
    "\"\"\")\n",
    "\n",
    "time_start = f\"{datetime_slot_start.hour}\" + f\"{datetime_slot_start:%p}\".lower()\n",
    "time_end = f\"{datetime_slot_end.hour}\" + f\"{datetime_slot_end:%p}\".lower()\n",
    "\n",
    "xpath_slot_saturday = (\n",
    "    f\"//span[starts-with(text(), '{datetime_slot_start:%A} {datetime_slot_start.day}') \"\n",
    "    f\"and contains(text(), ' {datetime_slot_start:%B}, Between {time_start} - {time_end}.')]/..\"\n",
    ")\n",
    "autoshop.logger.info(f\"\"\"{xpath_slot_saturday=\n",
    "}\"\"\")\n",
    "\n",
    "element_slot_button = autoshop.selenium.wait_and_execute_click(driver=driver, value=xpath_slot_saturday)"
   ]
  },
  {
   "cell_type": "code",
   "execution_count": 8,
   "id": "6dd01af9",
   "metadata": {},
   "outputs": [],
   "source": [
    "xpath_start_shopping = \"//span[text()='Start shopping']/..\"\n",
    "autoshop.selenium.wait_and_click(driver=driver, value=xpath_start_shopping)"
   ]
  },
  {
   "cell_type": "markdown",
   "id": "bf78323c-7115-49ff-8c7c-f3fd194582e4",
   "metadata": {},
   "source": [
    "## Add all to basket"
   ]
  },
  {
   "cell_type": "code",
   "execution_count": 9,
   "id": "cd6ad2b8-c419-4204-909f-e89e8a606b49",
   "metadata": {},
   "outputs": [],
   "source": [
    "xpath_my_orders = \"//span[text()='My orders']\"\n",
    "autoshop.selenium.wait_and_click(driver=driver, value=xpath_my_orders)"
   ]
  },
  {
   "cell_type": "code",
   "execution_count": 10,
   "id": "12336e9e",
   "metadata": {},
   "outputs": [],
   "source": [
    "xpath_my_orders = \"//span[text()='Recent']\"\n",
    "autoshop.selenium.wait_and_click(driver=driver, value=xpath_my_orders)"
   ]
  },
  {
   "cell_type": "code",
   "execution_count": 11,
   "id": "c9c06bec-c7fc-480c-945c-1886a6956ffc",
   "metadata": {},
   "outputs": [],
   "source": [
    "xpath_add_all_to_basket = \"//button[@type='button']//span[text()='Add all to basket']/..\"\n",
    "autoshop.selenium.wait_and_click(driver=driver, value=xpath_add_all_to_basket)\n",
    "time.sleep(10)"
   ]
  },
  {
   "cell_type": "markdown",
   "id": "7c5e282f-b173-414c-962e-0738662fce51",
   "metadata": {},
   "source": [
    "## Checkout"
   ]
  },
  {
   "cell_type": "code",
   "execution_count": 12,
   "id": "20bf9b58-5847-4863-8fd2-30213ecfe48b",
   "metadata": {},
   "outputs": [],
   "source": [
    "autoshop.tesco.checkout(driver=driver)"
   ]
  },
  {
   "cell_type": "code",
   "execution_count": 13,
   "metadata": {},
   "outputs": [
    {
     "ename": "TimeoutException",
     "evalue": "Message: \nStacktrace:\n\tGetHandleVerifier [0x01058213+26163]\n\t(No symbol) [0x00FE9CC4]\n\t(No symbol) [0x00EE24C3]\n\t(No symbol) [0x00F27453]\n\t(No symbol) [0x00F2762B]\n\t(No symbol) [0x00F66B62]\n\t(No symbol) [0x00F4AD04]\n\t(No symbol) [0x00F64661]\n\t(No symbol) [0x00F4AA56]\n\t(No symbol) [0x00F1BE89]\n\t(No symbol) [0x00F1C8CD]\n\tGetHandleVerifier [0x0132D313+2996019]\n\tGetHandleVerifier [0x01381B89+3342249]\n\tGetHandleVerifier [0x010E7AEF+614159]\n\tGetHandleVerifier [0x010EF17C+644508]\n\t(No symbol) [0x00FF27FD]\n\t(No symbol) [0x00FEF6F8]\n\t(No symbol) [0x00FEF895]\n\t(No symbol) [0x00FE1C16]\n\tBaseThreadInitThunk [0x75957BA9+25]\n\tRtlInitializeExceptionChain [0x7711C10B+107]\n\tRtlClearBits [0x7711C08F+191]\n",
     "output_type": "error",
     "traceback": [
      "\u001b[1;31m---------------------------------------------------------------------------\u001b[0m",
      "\u001b[1;31mTimeoutException\u001b[0m                          Traceback (most recent call last)",
      "Cell \u001b[1;32mIn[13], line 1\u001b[0m\n\u001b[1;32m----> 1\u001b[0m \u001b[43mautoshop\u001b[49m\u001b[38;5;241;43m.\u001b[39;49m\u001b[43mtesco\u001b[49m\u001b[38;5;241;43m.\u001b[39;49m\u001b[43mpay\u001b[49m\u001b[43m(\u001b[49m\u001b[43mdriver\u001b[49m\u001b[38;5;241;43m=\u001b[39;49m\u001b[43mdriver\u001b[49m\u001b[43m)\u001b[49m\n",
      "File \u001b[1;32mC:\\code\\python\\autoshop\\autoshop\\tesco\\tesco.py:348\u001b[0m, in \u001b[0;36mpay\u001b[1;34m(driver)\u001b[0m\n\u001b[0;32m    345\u001b[0m driver\u001b[38;5;241m.\u001b[39mswitch_to\u001b[38;5;241m.\u001b[39mframe(\u001b[38;5;124m\"\u001b[39m\u001b[38;5;124mbounty-iframe\u001b[39m\u001b[38;5;124m\"\u001b[39m)\n\u001b[0;32m    347\u001b[0m xpath_cvc \u001b[38;5;241m=\u001b[39m \u001b[38;5;124m\"\u001b[39m\u001b[38;5;124m//input[@id=\u001b[39m\u001b[38;5;124m'\u001b[39m\u001b[38;5;124mcard-cvc\u001b[39m\u001b[38;5;124m'\u001b[39m\u001b[38;5;124m]\u001b[39m\u001b[38;5;124m\"\u001b[39m\n\u001b[1;32m--> 348\u001b[0m \u001b[43mautoshop\u001b[49m\u001b[38;5;241;43m.\u001b[39;49m\u001b[43mselenium\u001b[49m\u001b[38;5;241;43m.\u001b[39;49m\u001b[43mwait_and_send_keys\u001b[49m\u001b[43m(\u001b[49m\n\u001b[0;32m    349\u001b[0m \u001b[43m    \u001b[49m\u001b[43mdriver\u001b[49m\u001b[38;5;241;43m=\u001b[39;49m\u001b[43mdriver\u001b[49m\u001b[43m,\u001b[49m\u001b[43m \u001b[49m\n\u001b[0;32m    350\u001b[0m \u001b[43m    \u001b[49m\u001b[43mvalue\u001b[49m\u001b[38;5;241;43m=\u001b[39;49m\u001b[43mxpath_cvc\u001b[49m\u001b[43m,\u001b[49m\n\u001b[0;32m    351\u001b[0m \u001b[43m    \u001b[49m\u001b[43mkeys\u001b[49m\u001b[38;5;241;43m=\u001b[39;49m\u001b[43mgetpass\u001b[49m\u001b[38;5;241;43m.\u001b[39;49m\u001b[43mgetpass\u001b[49m\u001b[43m(\u001b[49m\u001b[43m)\u001b[49m\u001b[43m,\u001b[49m\n\u001b[0;32m    352\u001b[0m \u001b[43m    \u001b[49m\u001b[43mlog\u001b[49m\u001b[38;5;241;43m=\u001b[39;49m\u001b[38;5;28;43;01mFalse\u001b[39;49;00m\u001b[43m,\u001b[49m\n\u001b[0;32m    353\u001b[0m \u001b[43m\u001b[49m\u001b[43m)\u001b[49m\n\u001b[0;32m    355\u001b[0m xpath_confirm_order \u001b[38;5;241m=\u001b[39m \u001b[38;5;124m\"\u001b[39m\u001b[38;5;124m//input[@value=\u001b[39m\u001b[38;5;124m'\u001b[39m\u001b[38;5;124mConfirm order\u001b[39m\u001b[38;5;124m'\u001b[39m\u001b[38;5;124m]\u001b[39m\u001b[38;5;124m\"\u001b[39m\n\u001b[0;32m    356\u001b[0m autoshop\u001b[38;5;241m.\u001b[39mselenium\u001b[38;5;241m.\u001b[39mwait_and_click(driver\u001b[38;5;241m=\u001b[39mdriver, value\u001b[38;5;241m=\u001b[39mxpath_confirm_order)\n",
      "File \u001b[1;32mC:\\code\\python\\autoshop\\autoshop\\selenium\\selenium.py:169\u001b[0m, in \u001b[0;36mwait_and_send_keys\u001b[1;34m(driver, value, keys, by, timeout, log)\u001b[0m\n\u001b[0;32m    157\u001b[0m \u001b[38;5;28;01mdef\u001b[39;00m \u001b[38;5;21mwait_and_send_keys\u001b[39m(\n\u001b[0;32m    158\u001b[0m     driver: autoshop\u001b[38;5;241m.\u001b[39mtyping\u001b[38;5;241m.\u001b[39mWebDriver,\n\u001b[0;32m    159\u001b[0m     value: \u001b[38;5;28mstr\u001b[39m,\n\u001b[1;32m   (...)\u001b[0m\n\u001b[0;32m    163\u001b[0m     log: Optional[\u001b[38;5;28mbool\u001b[39m] \u001b[38;5;241m=\u001b[39m \u001b[38;5;28;01mNone\u001b[39;00m,\n\u001b[0;32m    164\u001b[0m ) \u001b[38;5;241m-\u001b[39m\u001b[38;5;241m>\u001b[39m NoReturn:\n\u001b[0;32m    165\u001b[0m \u001b[38;5;250m    \u001b[39m\u001b[38;5;124;03m\"\"\"\u001b[39;00m\n\u001b[0;32m    166\u001b[0m \u001b[38;5;124;03m    Waits and sends keys to the first element found.\u001b[39;00m\n\u001b[0;32m    167\u001b[0m \u001b[38;5;124;03m    \"\"\"\u001b[39;00m\n\u001b[1;32m--> 169\u001b[0m     element \u001b[38;5;241m=\u001b[39m \u001b[43mwait_and_get\u001b[49m\u001b[43m(\u001b[49m\u001b[43mdriver\u001b[49m\u001b[38;5;241;43m=\u001b[39;49m\u001b[43mdriver\u001b[49m\u001b[43m,\u001b[49m\u001b[43m \u001b[49m\u001b[43mvalue\u001b[49m\u001b[38;5;241;43m=\u001b[39;49m\u001b[43mvalue\u001b[49m\u001b[43m,\u001b[49m\u001b[43m \u001b[49m\u001b[43mby\u001b[49m\u001b[38;5;241;43m=\u001b[39;49m\u001b[43mby\u001b[49m\u001b[43m,\u001b[49m\u001b[43m \u001b[49m\u001b[43mtimeout\u001b[49m\u001b[38;5;241;43m=\u001b[39;49m\u001b[43mtimeout\u001b[49m\u001b[43m,\u001b[49m\u001b[43m \u001b[49m\u001b[43mlog\u001b[49m\u001b[38;5;241;43m=\u001b[39;49m\u001b[43mlog\u001b[49m\u001b[43m)\u001b[49m\n\u001b[0;32m    170\u001b[0m     element\u001b[38;5;241m.\u001b[39msend_keys(keys)\n\u001b[0;32m    172\u001b[0m     \u001b[38;5;28;01mif\u001b[39;00m log \u001b[38;5;129;01mis\u001b[39;00m \u001b[38;5;28;01mNone\u001b[39;00m:\n",
      "File \u001b[1;32mC:\\code\\python\\autoshop\\autoshop\\selenium\\selenium.py:71\u001b[0m, in \u001b[0;36mwait_and_get\u001b[1;34m(driver, value, by, timeout, log)\u001b[0m\n\u001b[0;32m     68\u001b[0m     LOGGER\u001b[38;5;241m.\u001b[39mdebug(\u001b[38;5;124mf\u001b[39m\u001b[38;5;124m\"\u001b[39m\u001b[38;5;132;01m{\u001b[39;00mwait_and_get\u001b[38;5;241m.\u001b[39m\u001b[38;5;18m__name__\u001b[39m\u001b[38;5;132;01m}\u001b[39;00m\u001b[38;5;124m \u001b[39m\u001b[38;5;132;01m{\u001b[39;00mby\u001b[38;5;132;01m=}\u001b[39;00m\u001b[38;5;124m, \u001b[39m\u001b[38;5;132;01m{\u001b[39;00mvalue\u001b[38;5;132;01m=}\u001b[39;00m\u001b[38;5;124m, \u001b[39m\u001b[38;5;132;01m{\u001b[39;00mtimeout\u001b[38;5;132;01m=}\u001b[39;00m\u001b[38;5;124m\"\u001b[39m)\n\u001b[0;32m     70\u001b[0m wait \u001b[38;5;241m=\u001b[39m expected_conditions\u001b[38;5;241m.\u001b[39mpresence_of_element_located((by, value))\n\u001b[1;32m---> 71\u001b[0m \u001b[43mWebDriverWait\u001b[49m\u001b[43m(\u001b[49m\u001b[43mdriver\u001b[49m\u001b[43m,\u001b[49m\u001b[43m \u001b[49m\u001b[43mtimeout\u001b[49m\u001b[43m)\u001b[49m\u001b[38;5;241;43m.\u001b[39;49m\u001b[43muntil\u001b[49m\u001b[43m(\u001b[49m\u001b[43mwait\u001b[49m\u001b[43m)\u001b[49m\n\u001b[0;32m     73\u001b[0m \u001b[38;5;28;01mif\u001b[39;00m log:\n\u001b[0;32m     74\u001b[0m     LOGGER\u001b[38;5;241m.\u001b[39mdebug(\u001b[38;5;124mf\u001b[39m\u001b[38;5;124m\"\u001b[39m\u001b[38;5;124mWaited for: \u001b[39m\u001b[38;5;132;01m{\u001b[39;00mby\u001b[38;5;132;01m=}\u001b[39;00m\u001b[38;5;124m, \u001b[39m\u001b[38;5;132;01m{\u001b[39;00mvalue\u001b[38;5;132;01m=}\u001b[39;00m\u001b[38;5;124m\"\u001b[39m)\n",
      "File \u001b[1;32mc:\\Users\\joy\\miniconda3\\envs\\autoshop\\Lib\\site-packages\\selenium\\webdriver\\support\\wait.py:105\u001b[0m, in \u001b[0;36mWebDriverWait.until\u001b[1;34m(self, method, message)\u001b[0m\n\u001b[0;32m    103\u001b[0m     \u001b[38;5;28;01mif\u001b[39;00m time\u001b[38;5;241m.\u001b[39mmonotonic() \u001b[38;5;241m>\u001b[39m end_time:\n\u001b[0;32m    104\u001b[0m         \u001b[38;5;28;01mbreak\u001b[39;00m\n\u001b[1;32m--> 105\u001b[0m \u001b[38;5;28;01mraise\u001b[39;00m TimeoutException(message, screen, stacktrace)\n",
      "\u001b[1;31mTimeoutException\u001b[0m: Message: \nStacktrace:\n\tGetHandleVerifier [0x01058213+26163]\n\t(No symbol) [0x00FE9CC4]\n\t(No symbol) [0x00EE24C3]\n\t(No symbol) [0x00F27453]\n\t(No symbol) [0x00F2762B]\n\t(No symbol) [0x00F66B62]\n\t(No symbol) [0x00F4AD04]\n\t(No symbol) [0x00F64661]\n\t(No symbol) [0x00F4AA56]\n\t(No symbol) [0x00F1BE89]\n\t(No symbol) [0x00F1C8CD]\n\tGetHandleVerifier [0x0132D313+2996019]\n\tGetHandleVerifier [0x01381B89+3342249]\n\tGetHandleVerifier [0x010E7AEF+614159]\n\tGetHandleVerifier [0x010EF17C+644508]\n\t(No symbol) [0x00FF27FD]\n\t(No symbol) [0x00FEF6F8]\n\t(No symbol) [0x00FEF895]\n\t(No symbol) [0x00FE1C16]\n\tBaseThreadInitThunk [0x75957BA9+25]\n\tRtlInitializeExceptionChain [0x7711C10B+107]\n\tRtlClearBits [0x7711C08F+191]\n"
     ]
    }
   ],
   "source": [
    "autoshop.tesco.pay(driver=driver)"
   ]
  }
 ],
 "metadata": {
  "kernelspec": {
   "display_name": "Python 3 (ipykernel)",
   "language": "python",
   "name": "python3"
  },
  "language_info": {
   "codemirror_mode": {
    "name": "ipython",
    "version": 3
   },
   "file_extension": ".py",
   "mimetype": "text/x-python",
   "name": "python",
   "nbconvert_exporter": "python",
   "pygments_lexer": "ipython3",
   "version": "3.11.5"
  }
 },
 "nbformat": 4,
 "nbformat_minor": 5
}
