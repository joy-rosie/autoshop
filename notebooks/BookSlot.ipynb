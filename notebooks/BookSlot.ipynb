{
 "cells": [
  {
   "cell_type": "markdown",
   "id": "e9475df6-024d-4d11-942f-38de05cb89e3",
   "metadata": {},
   "source": [
    "## Imports"
   ]
  },
  {
   "cell_type": "code",
   "execution_count": 1,
   "id": "e3c27e1b-7c40-463a-b42c-fb8a5f83e6ec",
   "metadata": {},
   "outputs": [],
   "source": [
    "import datetime\n",
    "import time\n",
    "import zoneinfo\n",
    "\n",
    "import autoshop"
   ]
  },
  {
   "cell_type": "markdown",
   "id": "13ba46bd-696f-45be-8f7a-f03f7be3c92a",
   "metadata": {},
   "source": [
    "## Login"
   ]
  },
  {
   "cell_type": "code",
   "execution_count": 2,
   "id": "5e9a7fef-ff8b-44c1-b029-66ab5329b299",
   "metadata": {},
   "outputs": [],
   "source": [
    "driver = autoshop.chrome.driver()"
   ]
  },
  {
   "cell_type": "code",
   "execution_count": null,
   "id": "d923ce40",
   "metadata": {},
   "outputs": [],
   "source": [
    "autoshop.tesco.login(driver=driver)"
   ]
  },
  {
   "cell_type": "markdown",
   "id": "e09b7e3b-d6f5-4146-952f-73a5ca276ec8",
   "metadata": {},
   "source": [
    "## Go to book a slot"
   ]
  },
  {
   "cell_type": "code",
   "execution_count": 4,
   "id": "b46fee81-2210-4aa1-b917-4a451b386a5b",
   "metadata": {},
   "outputs": [],
   "source": [
    "xpath_book_another_slot = \"//a//span[text()='Book a slot']/..\"\n",
    "autoshop.selenium.wait_and_execute_click(driver=driver, value=xpath_book_another_slot)"
   ]
  },
  {
   "cell_type": "code",
   "execution_count": 5,
   "id": "4d0f54f0-1af7-44a9-bc3c-dd39e7568650",
   "metadata": {},
   "outputs": [],
   "source": [
    "autoshop.tesco.go_to_delivery_slots(driver=driver)"
   ]
  },
  {
   "cell_type": "markdown",
   "id": "c4f24d2b-62a8-499a-b534-5637337a208a",
   "metadata": {},
   "source": [
    "## Book the slot"
   ]
  },
  {
   "cell_type": "markdown",
   "id": "3b81defa-faaf-4dd2-af86-6b2ade882542",
   "metadata": {},
   "source": [
    "### Find the correct week"
   ]
  },
  {
   "cell_type": "code",
   "execution_count": null,
   "id": "a661cf98-29d6-4de1-85e0-5ec661048d9e",
   "metadata": {},
   "outputs": [],
   "source": [
    "now = datetime.datetime.now(tz=zoneinfo.ZoneInfo(\"Europe/London\"))\n",
    "\n",
    "start_week_third = now + datetime.timedelta(days=3 * 7)\n",
    "end_week_third = start_week_third + datetime.timedelta(days=6)\n",
    "\n",
    "autoshop.logger.info(f\"\"\"\n",
    "{start_week_third=:%Y-%m-%d}\n",
    "  {end_week_third=:%Y-%m-%d}\"\"\")\n",
    "\n",
    "start_week_third_month = f\"{start_week_third:%b}\"\n",
    "end_week_third_month = f\"{end_week_third:%b}\"\n",
    "\n",
    "format_day = \"01d\"\n",
    "\n",
    "if start_week_third.month == end_week_third.month:\n",
    "    xpath_week_third =  (\n",
    "        f\"//span[text()='{start_week_third.day:{format_day}}–{end_week_third.day:{format_day}} {end_week_third_month}']\"\n",
    "    )\n",
    "else:\n",
    "    xpath_week_third =  (\n",
    "        f\"//span[text()='{start_week_third.day:{format_day}} {start_week_third_month}–{end_week_third.day:{format_day}} {end_week_third_month}']\"\n",
    "    )\n",
    "\n",
    "autoshop.logger.info(f\"\"\"{xpath_week_third=\n",
    "}\"\"\")\n",
    "\n",
    "autoshop.selenium.wait_and_click(driver=driver, value=xpath_week_third)"
   ]
  },
  {
   "cell_type": "markdown",
   "id": "fac1a76c-2517-46af-8d3a-6ee96ab97449",
   "metadata": {},
   "source": [
    "### Find the correct date and time"
   ]
  },
  {
   "cell_type": "code",
   "execution_count": null,
   "id": "26283d84-044b-463f-8b1e-641f6ab0d840",
   "metadata": {},
   "outputs": [],
   "source": [
    "days_to_saturday = (5 - start_week_third.weekday()) % 7\n",
    "date_saturday = start_week_third + datetime.timedelta(days=days_to_saturday)\n",
    "\n",
    "datetime_slot_start = date_saturday.replace(hour=9, minute=0, second=0)\n",
    "datetime_slot_end = datetime_slot_start + datetime.timedelta(hours=1)\n",
    "\n",
    "autoshop.logger.info(f\"\"\"\n",
    "{datetime_slot_start=:%Y-%m-%d %H:%M}\n",
    "  {datetime_slot_end=:%Y-%m-%d %H:%M}\n",
    "\"\"\")\n",
    "\n",
    "time_start = f\"{datetime_slot_start.hour}\" + f\"{datetime_slot_start:%p}\".lower()\n",
    "time_end = f\"{datetime_slot_end.hour}\" + f\"{datetime_slot_end:%p}\".lower()\n",
    "\n",
    "xpath_slot_saturday = (\n",
    "    f\"//button[starts-with(@aria-label, '{datetime_slot_start:%A} {datetime_slot_start.day}') \"\n",
    "    f\"and contains(@aria-label, ' {datetime_slot_start:%B}, {time_start}–{time_end}')]\"\n",
    ")\n",
    "autoshop.logger.info(f\"\"\"{xpath_slot_saturday=\n",
    "}\"\"\")\n",
    "\n",
    "element_slot_button = autoshop.selenium.wait_and_execute_click(driver=driver, value=xpath_slot_saturday)"
   ]
  },
  {
   "cell_type": "code",
   "execution_count": 8,
   "id": "6dd01af9",
   "metadata": {},
   "outputs": [],
   "source": [
    "xpath_start_shopping = \"//span[text()='Start shopping']/..\"\n",
    "autoshop.selenium.wait_and_click(driver=driver, value=xpath_start_shopping)"
   ]
  },
  {
   "cell_type": "markdown",
   "id": "bf78323c-7115-49ff-8c7c-f3fd194582e4",
   "metadata": {},
   "source": [
    "## Add all to basket"
   ]
  },
  {
   "cell_type": "code",
   "execution_count": 9,
   "id": "cd6ad2b8-c419-4204-909f-e89e8a606b49",
   "metadata": {},
   "outputs": [],
   "source": [
    "xpath_my_orders = \"//span[text()='My orders']\"\n",
    "autoshop.selenium.wait_and_click(driver=driver, value=xpath_my_orders)"
   ]
  },
  {
   "cell_type": "code",
   "execution_count": 10,
   "id": "12336e9e",
   "metadata": {},
   "outputs": [],
   "source": [
    "xpath_my_orders = \"//span[text()='Recent']\"\n",
    "autoshop.selenium.wait_and_click(driver=driver, value=xpath_my_orders)"
   ]
  },
  {
   "cell_type": "code",
   "execution_count": 11,
   "id": "c9c06bec-c7fc-480c-945c-1886a6956ffc",
   "metadata": {},
   "outputs": [],
   "source": [
    "xpath_add_all_to_basket = \"//button[@type='button']//span[text()='Add all to basket']/..\"\n",
    "autoshop.selenium.wait_and_click(driver=driver, value=xpath_add_all_to_basket)\n",
    "time.sleep(10)"
   ]
  },
  {
   "cell_type": "markdown",
   "id": "7c5e282f-b173-414c-962e-0738662fce51",
   "metadata": {},
   "source": [
    "## Checkout"
   ]
  },
  {
   "cell_type": "code",
   "execution_count": 12,
   "id": "20bf9b58-5847-4863-8fd2-30213ecfe48b",
   "metadata": {},
   "outputs": [],
   "source": [
    "autoshop.tesco.checkout(driver=driver)"
   ]
  },
  {
   "cell_type": "code",
   "execution_count": null,
   "metadata": {},
   "outputs": [],
   "source": [
    "autoshop.tesco.pay(driver=driver)"
   ]
  }
 ],
 "metadata": {
  "kernelspec": {
   "display_name": "Python 3 (ipykernel)",
   "language": "python",
   "name": "python3"
  },
  "language_info": {
   "codemirror_mode": {
    "name": "ipython",
    "version": 3
   },
   "file_extension": ".py",
   "mimetype": "text/x-python",
   "name": "python",
   "nbconvert_exporter": "python",
   "pygments_lexer": "ipython3",
   "version": "3.11.5"
  }
 },
 "nbformat": 4,
 "nbformat_minor": 5
}
