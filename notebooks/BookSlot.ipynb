{
 "cells": [
  {
   "cell_type": "code",
   "execution_count": null,
   "id": "84d33f81",
   "metadata": {},
   "outputs": [],
   "source": [
    "week_to_book = 3"
   ]
  },
  {
   "cell_type": "markdown",
   "id": "e9475df6-024d-4d11-942f-38de05cb89e3",
   "metadata": {},
   "source": [
    "## Imports"
   ]
  },
  {
   "cell_type": "code",
   "execution_count": null,
   "id": "e3c27e1b-7c40-463a-b42c-fb8a5f83e6ec",
   "metadata": {},
   "outputs": [],
   "source": [
    "import datetime\n",
    "import time\n",
    "import zoneinfo\n",
    "\n",
    "from autoshop import all as autoshop"
   ]
  },
  {
   "cell_type": "markdown",
   "id": "13ba46bd-696f-45be-8f7a-f03f7be3c92a",
   "metadata": {},
   "source": [
    "## Login"
   ]
  },
  {
   "cell_type": "code",
   "execution_count": null,
   "id": "5e9a7fef-ff8b-44c1-b029-66ab5329b299",
   "metadata": {},
   "outputs": [],
   "source": [
    "driver = autoshop.chrome.driver()"
   ]
  },
  {
   "cell_type": "code",
   "execution_count": null,
   "id": "d923ce40",
   "metadata": {},
   "outputs": [],
   "source": [
    "autoshop.tesco.login(driver=driver)"
   ]
  },
  {
   "cell_type": "markdown",
   "id": "e09b7e3b-d6f5-4146-952f-73a5ca276ec8",
   "metadata": {},
   "source": [
    "## Go to book a slot"
   ]
  },
  {
   "cell_type": "code",
   "execution_count": null,
   "id": "2fbbd33f",
   "metadata": {},
   "outputs": [],
   "source": [
    "xpath_my_orders = \"//a//span[text()='My orders']/..\"\n",
    "autoshop.selenium.wait_and_execute_click(driver=driver, value=xpath_my_orders)"
   ]
  },
  {
   "cell_type": "code",
   "execution_count": null,
   "id": "b46fee81-2210-4aa1-b917-4a451b386a5b",
   "metadata": {},
   "outputs": [],
   "source": [
    "xpath_book_another_slot = \"//a//span[text()='Book a slot']/..\"\n",
    "autoshop.selenium.wait_and_execute_click(driver=driver, value=xpath_book_another_slot)"
   ]
  },
  {
   "cell_type": "markdown",
   "id": "c4f24d2b-62a8-499a-b534-5637337a208a",
   "metadata": {},
   "source": [
    "## Book the slot"
   ]
  },
  {
   "cell_type": "markdown",
   "id": "3b81defa-faaf-4dd2-af86-6b2ade882542",
   "metadata": {},
   "source": [
    "### Find next Friday"
   ]
  },
  {
   "cell_type": "code",
   "execution_count": null,
   "id": "868eaf94",
   "metadata": {},
   "outputs": [],
   "source": [
    "now = datetime.datetime.now(tz=zoneinfo.ZoneInfo(\"Europe/London\"))\n",
    "next_friday = now + datetime.timedelta((4 - now.weekday()) % 7)\n",
    "\n",
    "autoshop.logger.info(f\"{now=:%Y-%m-%d}\")\n",
    "autoshop.logger.info(f\"{next_friday=:%Y-%m-%d}\")"
   ]
  },
  {
   "cell_type": "markdown",
   "id": "fabe9c79",
   "metadata": {},
   "source": [
    "### Move to the week we are interested in"
   ]
  },
  {
   "cell_type": "code",
   "execution_count": null,
   "id": "bb2910d8",
   "metadata": {},
   "outputs": [],
   "source": [
    "autoshop.tesco.go_to_delivery_slots(driver=driver)\n",
    "\n",
    "for index in range(week_to_book):\n",
    "    xpath_next_seven_days = \"//button//span[text()='Next 7 days']/..\"\n",
    "    autoshop.selenium.wait_and_execute_click(driver=driver, value=xpath_next_seven_days)\n",
    "    time.sleep(1)"
   ]
  },
  {
   "cell_type": "markdown",
   "id": "13e7f3a2",
   "metadata": {},
   "source": [
    "### Find the datetime we want to book for"
   ]
  },
  {
   "cell_type": "code",
   "execution_count": null,
   "id": "f7a00d14",
   "metadata": {},
   "outputs": [],
   "source": [
    "booking_date = next_friday + datetime.timedelta(days=week_to_book * 7)\n",
    "autoshop.logger.info(f\"{booking_date=:%Y-%m-%d}\")\n",
    "\n",
    "datetime_slot_start = booking_date.replace(hour=20, minute=0, second=0)\n",
    "datetime_slot_end = datetime_slot_start + datetime.timedelta(hours=1)\n",
    "\n",
    "autoshop.logger.info(f\"\"\"\n",
    "{datetime_slot_start=:%Y-%m-%d %H:%M}\n",
    "{datetime_slot_end=:%Y-%m-%d %H:%M}\n",
    "\"\"\")\n",
    "\n",
    "time_start = f\"{datetime_slot_start:%#I%p}\".lower()\n",
    "time_end = f\"{datetime_slot_end:%#I%p}\".lower()\n",
    "\n",
    "xpath_slot_booking_datetime = (\n",
    "    f\"//button[starts-with(@aria-label, '{datetime_slot_start:%A} {datetime_slot_start.day}') \"\n",
    "    f\"and contains(@aria-label, ' {datetime_slot_start:%B}, {time_start} – {time_end}')]\"\n",
    ")\n",
    "autoshop.logger.info(f\"\"\"{xpath_slot_booking_datetime=\n",
    "}\"\"\")\n",
    "autoshop.selenium.wait_and_click(driver=driver, value=xpath_slot_booking_datetime)"
   ]
  },
  {
   "cell_type": "markdown",
   "id": "c43c5117",
   "metadata": {},
   "source": [
    "### Start Shopping"
   ]
  },
  {
   "cell_type": "code",
   "execution_count": null,
   "id": "b8b23a5a",
   "metadata": {},
   "outputs": [],
   "source": [
    "xpath_start_shopping = \"//span[text()='Start shopping']/..\"\n",
    "autoshop.selenium.wait_and_click(driver=driver, value=xpath_start_shopping)"
   ]
  },
  {
   "cell_type": "markdown",
   "id": "29208429",
   "metadata": {},
   "source": [
    "### Go previous orders and add all to basket"
   ]
  },
  {
   "cell_type": "code",
   "execution_count": null,
   "id": "e736a625",
   "metadata": {},
   "outputs": [],
   "source": [
    "xpath_my_orders = \"//span[text()='My orders']\"\n",
    "autoshop.selenium.wait_and_click(driver=driver, value=xpath_my_orders)\n",
    "xpath_recent_orders = \"//span[text()='Recent']\"\n",
    "autoshop.selenium.wait_and_click(driver=driver, value=xpath_recent_orders)\n",
    "\n",
    "xpath_add_all_to_basket = (\n",
    "    \"//button[@type='button']//span[text()='Add all to basket']/..\"\n",
    ")\n",
    "autoshop.selenium.wait_and_click(driver=driver, value=xpath_add_all_to_basket)\n",
    "time.sleep(10)"
   ]
  },
  {
   "cell_type": "markdown",
   "id": "7c5e282f-b173-414c-962e-0738662fce51",
   "metadata": {},
   "source": [
    "## Checkout"
   ]
  },
  {
   "cell_type": "code",
   "execution_count": null,
   "id": "20bf9b58-5847-4863-8fd2-30213ecfe48b",
   "metadata": {},
   "outputs": [],
   "source": [
    "autoshop.tesco.checkout(driver=driver)"
   ]
  },
  {
   "cell_type": "code",
   "execution_count": null,
   "id": "7fb27b941602401d91542211134fc71a",
   "metadata": {},
   "outputs": [],
   "source": [
    "autoshop.tesco.pay(driver=driver)"
   ]
  }
 ],
 "metadata": {
  "kernelspec": {
   "display_name": "autoshop",
   "language": "python",
   "name": "python3"
  },
  "language_info": {
   "codemirror_mode": {
    "name": "ipython",
    "version": 3
   },
   "file_extension": ".py",
   "mimetype": "text/x-python",
   "name": "python",
   "nbconvert_exporter": "python",
   "pygments_lexer": "ipython3",
   "version": "3.11.5"
  }
 },
 "nbformat": 4,
 "nbformat_minor": 5
}
