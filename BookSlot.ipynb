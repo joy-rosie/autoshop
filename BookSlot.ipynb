{
 "cells": [
  {
   "cell_type": "code",
   "execution_count": null,
   "id": "ab0aa1c1-f9c3-40c3-80dc-23d40ea2eb17",
   "metadata": {},
   "outputs": [],
   "source": [
    "%run ./Utility.ipynb"
   ]
  },
  {
   "cell_type": "markdown",
   "id": "e9475df6-024d-4d11-942f-38de05cb89e3",
   "metadata": {},
   "source": [
    "## Imports"
   ]
  },
  {
   "cell_type": "code",
   "execution_count": null,
   "id": "e3c27e1b-7c40-463a-b42c-fb8a5f83e6ec",
   "metadata": {},
   "outputs": [],
   "source": [
    "import datetime\n",
    "import zoneinfo"
   ]
  },
  {
   "cell_type": "markdown",
   "id": "13ba46bd-696f-45be-8f7a-f03f7be3c92a",
   "metadata": {},
   "source": [
    "## Login"
   ]
  },
  {
   "cell_type": "code",
   "execution_count": null,
   "id": "5e9a7fef-ff8b-44c1-b029-66ab5329b299",
   "metadata": {},
   "outputs": [],
   "source": [
    "driver = login()"
   ]
  },
  {
   "cell_type": "markdown",
   "id": "e09b7e3b-d6f5-4146-952f-73a5ca276ec8",
   "metadata": {},
   "source": [
    "## Go to book a slot"
   ]
  },
  {
   "cell_type": "code",
   "execution_count": null,
   "id": "0167c85a-7e7b-4ef6-94fe-fed6bc5178c1",
   "metadata": {},
   "outputs": [],
   "source": [
    "xpath_groceries = '//a/span[text()=\"Groceries\"]'\n",
    "wait_and_click(driver=driver, value=xpath_groceries)\n",
    "\n",
    "xpath_shop_groceries = '//span[text()=\"Shop groceries\"]'\n",
    "element_span_shop_groceries = wait_and_get(driver=driver, value=xpath_shop_groceries)\n",
    "element_shop_groceries = element_span_shop_groceries.find_element(by=By.XPATH, value='../..')\n",
    "element_shop_groceries.click()"
   ]
  },
  {
   "cell_type": "code",
   "execution_count": null,
   "id": "6c1dc7f1-795e-4a74-953f-1419e802f45d",
   "metadata": {},
   "outputs": [],
   "source": [
    "xpath_book_another_slot = '//a[text()=\"Book another slot\"]'\n",
    "wait_and_click(driver=driver, value=xpath_book_another_slot)\n",
    "\n",
    "xpath_delivery = '//a[@href=\"/groceries/en-GB/slots/delivery\"]'\n",
    "wait_and_click(driver=driver, value=xpath_delivery)"
   ]
  },
  {
   "cell_type": "markdown",
   "id": "c4f24d2b-62a8-499a-b534-5637337a208a",
   "metadata": {},
   "source": [
    "## Book the slot"
   ]
  },
  {
   "cell_type": "markdown",
   "id": "f6a928fc-5d4b-4d87-8695-23f0306ee0dd",
   "metadata": {},
   "source": [
    "Need to sort out the following, they have started using `uk` randomly again"
   ]
  },
  {
   "cell_type": "code",
   "execution_count": null,
   "id": "6f6fe0e7-691a-4b2a-b4a2-167bb838db46",
   "metadata": {},
   "outputs": [],
   "source": [
    "now = datetime.datetime.now(tz=zoneinfo.ZoneInfo('Europe/London'))\n",
    "\n",
    "start_week_third = now + datetime.timedelta(days=21)\n",
    "end_week_third = start_week_third + datetime.timedelta(days=6)\n",
    "\n",
    "days_to_saturday = (5 - start_week_third.weekday()) % 7\n",
    "date_saturday = start_week_third + datetime.timedelta(days=days_to_saturday)\n",
    "\n",
    "datetime_slot_start = date_saturday.replace(hour=9, minute=0, second=0)\n",
    "datetime_slot_end = datetime_slot_start + datetime.timedelta(hours=1)\n",
    "\n",
    "# For some reason th is being replaced by uk?\n",
    "TH = 'uk'\n",
    "\n",
    "def suffix(day_of_month: int) -> str:\n",
    "    if 11 <= day_of_month <= 13:\n",
    "        return TH \n",
    "    else:\n",
    "        return {1: 'st', 2: 'nd', 3: 'rd'}.get(day_of_month % 10, TH)\n",
    "    \n",
    "def date_with_suffix(\n",
    "    dt: datetime,\n",
    "    upper: Optional[bool] = None,\n",
    ") -> str:\n",
    "    if upper is None:\n",
    "        upper = False\n",
    "    \n",
    "    suffix_for_day = suffix(dt.day)\n",
    "    if upper:\n",
    "        suffix_for_day = suffix_for_day.upper()\n",
    "    return f'{dt.day}{suffix_for_day}'\n",
    "\n",
    "if start_week_third.month == end_week_third.month:\n",
    "    xpath_week_third = f'//a[@id=\"between-{date_with_suffix(start_week_third)}-{date_with_suffix(end_week_third)} of {start_week_third:%B}\"]'.lower()\n",
    "else:\n",
    "    xpath_week_third = f'//a[@id=\"between-{date_with_suffix(start_week_third)}-{end_week_third:%B} {date_with_suffix(end_week_third)} of {start_week_third:%B}\"]'.lower()\n",
    "    \n",
    "logging.info(xpath_week_third)\n",
    "\n",
    "wait_and_click(driver=driver, value=xpath_week_third)"
   ]
  },
  {
   "cell_type": "code",
   "execution_count": null,
   "id": "26283d84-044b-463f-8b1e-641f6ab0d840",
   "metadata": {},
   "outputs": [],
   "source": [
    "date_formatted = datetime_slot_start.strftime(f'%A {date_with_suffix(datetime_slot_start, upper=True)} %B')\n",
    "\n",
    "time_start = f'{datetime_slot_start.hour}' + f'{datetime_slot_start:%p}'.lower()\n",
    "time_end = f'{datetime_slot_end.hour}' + f'{datetime_slot_end:%p}'.lower()\n",
    "\n",
    "text_slot = f'{date_formatted}, Between {time_start} - {time_end}.'\n",
    "\n",
    "xpath_slot_saturday = f'//span[text()=\"{text_slot}\"]'\n",
    "element_slot_saturday = wait_and_get(driver=driver, value=xpath_slot_saturday)\n",
    "element_slot_button = element_slot_saturday.find_element(by=By.XPATH, value='..')\n",
    "element_slot_button.click()"
   ]
  },
  {
   "cell_type": "code",
   "execution_count": null,
   "id": "cd6ad2b8-c419-4204-909f-e89e8a606b49",
   "metadata": {},
   "outputs": [],
   "source": [
    "xpath_my_orders = '//span[text()=\"My orders\"]'\n",
    "wait_and_click(driver=driver, value=xpath_my_orders)"
   ]
  },
  {
   "cell_type": "markdown",
   "id": "bf78323c-7115-49ff-8c7c-f3fd194582e4",
   "metadata": {},
   "source": [
    "## Add all to basket"
   ]
  },
  {
   "cell_type": "code",
   "execution_count": null,
   "id": "c9c06bec-c7fc-480c-945c-1886a6956ffc",
   "metadata": {},
   "outputs": [],
   "source": [
    "xpath_add_all_to_basket = '//button[@type=\"button\"]//span[text()=\"Add all to basket\"]'\n",
    "wait_and_click(driver=driver, value=xpath_add_all_to_basket)\n",
    "time.sleep(10)"
   ]
  },
  {
   "cell_type": "markdown",
   "id": "7c5e282f-b173-414c-962e-0738662fce51",
   "metadata": {},
   "source": [
    "## Checkout"
   ]
  },
  {
   "cell_type": "code",
   "execution_count": null,
   "id": "20bf9b58-5847-4863-8fd2-30213ecfe48b",
   "metadata": {},
   "outputs": [],
   "source": [
    "xpath_span_checkout = '//span[text()=\"Checkout\"]'\n",
    "wait_and_execute_click(driver=driver, value=xpath_span_checkout)\n",
    "\n",
    "xpath_a_checkout = '//a//span[text()=\"Checkout\"]'\n",
    "wait_and_execute_click(driver=driver, value=xpath_a_checkout)\n",
    "\n",
    "xpath_a_continue_checkout = '//a//span[text()=\"Continue checkout\"]'\n",
    "wait_and_execute_click(driver=driver, value=xpath_a_continue_checkout)\n",
    "\n",
    "xpath_span_continue_to_payment = '//span[text()=\"Continue to payment\"]'\n",
    "wait_and_execute_click(driver=driver, value=xpath_span_continue_to_payment)"
   ]
  },
  {
   "cell_type": "markdown",
   "id": "d5433b4e-7e1c-488c-90f3-da89a5d90a89",
   "metadata": {},
   "source": [
    "## Input card details"
   ]
  },
  {
   "cell_type": "code",
   "execution_count": null,
   "id": "c17d68c3-b3eb-43cc-8965-55fcf21fb963",
   "metadata": {},
   "outputs": [],
   "source": [
    "driver.switch_to.frame('bounty-iframe')\n",
    "\n",
    "xpath_cvc = '//input[@id=\"card-cvc\"]'\n",
    "wait_and_send_keys(driver=driver, value=xpath_cvc, keys=getpass.getpass(), log=False)\n",
    "\n",
    "xpath_confirm_order = '//input[@value=\"Confirm order\"]'\n",
    "wait_and_click(driver=driver, value=xpath_confirm_order)"
   ]
  }
 ],
 "metadata": {
  "kernelspec": {
   "display_name": "Python 3 (ipykernel)",
   "language": "python",
   "name": "python3"
  },
  "language_info": {
   "codemirror_mode": {
    "name": "ipython",
    "version": 3
   },
   "file_extension": ".py",
   "mimetype": "text/x-python",
   "name": "python",
   "nbconvert_exporter": "python",
   "pygments_lexer": "ipython3",
   "version": "3.10.8"
  }
 },
 "nbformat": 4,
 "nbformat_minor": 5
}
