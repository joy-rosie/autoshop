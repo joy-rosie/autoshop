{
 "cells": [
  {
   "cell_type": "code",
   "execution_count": null,
   "id": "bbc14679-e8c1-4c06-b84a-aaee6df3169c",
   "metadata": {},
   "outputs": [],
   "source": [
    "import time\n",
    "import urllib.parse\n",
    "\n",
    "import autoshop\n",
    "import pandas as pd\n",
    "import pygsheets"
   ]
  },
  {
   "cell_type": "code",
   "execution_count": null,
   "id": "dd8ea28e-5884-4a34-b952-7936b25794f4",
   "metadata": {},
   "outputs": [],
   "source": [
    "driver = autoshop.login()"
   ]
  },
  {
   "cell_type": "code",
   "execution_count": null,
   "id": "bd90abb5-f07c-43f3-b60f-24cf90e64435",
   "metadata": {},
   "outputs": [],
   "source": [
    "time.sleep(1)\n",
    "driver.get(\"https://www.tesco.com/groceries/en-GB/orders\")"
   ]
  },
  {
   "cell_type": "code",
   "execution_count": null,
   "id": "135478e0-a9c5-4adf-9b0f-a2319ae8a6f3",
   "metadata": {},
   "outputs": [],
   "source": [
    "xpath_make_changes = \"//span[text()='Make changes']\"\n",
    "element = autoshop.wait_and_click(driver=driver, value=xpath_make_changes)"
   ]
  },
  {
   "cell_type": "code",
   "execution_count": null,
   "id": "7b36b870-3f7a-41d5-85ee-701e1f80f65c",
   "metadata": {},
   "outputs": [],
   "source": [
    "all_food = autoshop.get_all_food()"
   ]
  },
  {
   "cell_type": "code",
   "execution_count": null,
   "id": "7433edce-9de7-493b-89db-6fe4f53b2359",
   "metadata": {},
   "outputs": [],
   "source": [
    "URL_TEMPLATE = \"https://www.tesco.com/groceries/en-GB/search?query={query}&page={page}&count={count}\"\n",
    "\n",
    "def get_url(\n",
    "    query: str,\n",
    "    page: int = 1,\n",
    "    count: int = 24,\n",
    "    url_template: str = URL_TEMPLATE,\n",
    ") -> str:\n",
    "    return url_template.format(\n",
    "        query=urllib.parse.quote_plus(query),\n",
    "        page=page,\n",
    "        count=count,\n",
    "    )"
   ]
  },
  {
   "cell_type": "code",
   "execution_count": null,
   "id": "62d9cb93-c798-4b9c-8fb4-809f5b0bd9d6",
   "metadata": {},
   "outputs": [],
   "source": [
    "def get_food_elements(driver: autoshop.webdriver.Chrome):\n",
    "    try:\n",
    "        elements = autoshop.wait_and_get_all(\n",
    "            driver=driver,\n",
    "            value=(\n",
    "                \"//ul[@class = 'product-list grid']\"\n",
    "                \"//li\"\n",
    "                \"//a[starts-with(@href, '/groceries/en-GB/products/')]\"\n",
    "            ),\n",
    "        )\n",
    "    except KeyboardInterrupt as e:\n",
    "        raise e\n",
    "    except:\n",
    "        elements = []\n",
    "\n",
    "    # Don't want the elements where the text is empty\n",
    "    elements = [\n",
    "        element\n",
    "        for element in elements \n",
    "        if element.children()[0].text == \"\"\n",
    "    ]\n",
    "\n",
    "    # Don't want the sponsored items\n",
    "    elements = [\n",
    "        element\n",
    "        for element in elements \n",
    "        if not element.find_element(by=autoshop.By.XPATH, value=\"..\").text.startswith(\"Sponsored\")\n",
    "    ]\n",
    "    return elements\n",
    "\n",
    "\n",
    "def get_price(element):\n",
    "    try:\n",
    "        return element.find_element(by=autoshop.By.XPATH, value=\".//p[contains(text(), '£') and not(contains(text(), '/each')) and @class != 'product-info-message']\").text.replace(\"£\", \"\")\n",
    "    except KeyboardInterrupt as e:\n",
    "        raise e\n",
    "    except:\n",
    "        return float(\"nan\")"
   ]
  },
  {
   "cell_type": "code",
   "execution_count": null,
   "id": "495034f6-8f9a-4675-97a1-4aab12337c95",
   "metadata": {},
   "outputs": [],
   "source": [
    "df_food = pd.DataFrame(all_food[\"values\"][1:], columns=all_food[\"values\"][0])"
   ]
  },
  {
   "cell_type": "code",
   "execution_count": null,
   "id": "56a4e42d",
   "metadata": {},
   "outputs": [],
   "source": [
    "elements"
   ]
  },
  {
   "cell_type": "code",
   "execution_count": null,
   "id": "1db972e2-b901-4ef6-880e-bc5014de5204",
   "metadata": {},
   "outputs": [],
   "source": [
    "list_df = []\n",
    "\n",
    "for _, row in df_food.iterrows():\n",
    "    search = row[\"search\"]\n",
    "    if search is None or search == \"\":\n",
    "        name = row[\"name\"]\n",
    "    else:\n",
    "        name = search\n",
    "    autoshop.logger.info(f\"{name=}\")\n",
    "    \n",
    "    url = get_url(query=name)\n",
    "    autoshop.logger.info(f\"{url=}\")\n",
    "    driver.get(url=url)\n",
    "    \n",
    "    elements = get_food_elements(driver=driver)\n",
    "    \n",
    "    df_temp = (\n",
    "        pd.DataFrame(dict(element=elements))\n",
    "        .assign(\n",
    "            food=name,\n",
    "            parent=lambda x: x[\"element\"].apply(lambda e: e.find_element(by=autoshop.By.XPATH, value=\"..\")),\n",
    "            raw=lambda x: x[\"parent\"].apply(lambda e: e.get_attribute(\"innerHTML\")),\n",
    "            description=lambda x: x[\"parent\"].apply(lambda e: e.find_element(by=autoshop.By.XPATH, value=\".//a[starts-with(@href, '/groceries/en-GB/products/')]//span[text() != '']\").text),\n",
    "            link=lambda x: x[\"element\"].apply(lambda e: e.get_attribute(\"href\")),\n",
    "            image=lambda x: '=IMAGE(\"' + x[\"parent\"].apply(lambda e: e.find_element(by=autoshop.By.XPATH, value=\".//img\").get_attribute(\"srcset\")).str.split(\" \").str[0] + '\")',\n",
    "            price=lambda x: pd.to_numeric(x[\"parent\"].apply(get_price), errors=\"coerce\"),\n",
    "            datetime=pd.Timestamp.now(),\n",
    "        )\n",
    "        .drop(columns=[\"element\", \"parent\"])\n",
    "    )\n",
    "    \n",
    "    if df_temp.empty:\n",
    "        autoshop.logger.warning(f\"No data found for {name=}, {url=}\")\n",
    "    \n",
    "    list_df.append(df_temp)\n",
    "    \n",
    "df = pd.concat(list_df, ignore_index=True)"
   ]
  },
  {
   "cell_type": "code",
   "execution_count": null,
   "id": "950ba723-1fb6-4537-a4ee-e6af4fb1dc68",
   "metadata": {},
   "outputs": [],
   "source": [
    "google_client = pygsheets.authorize(service_file='food-api-383412-1c354585502d.json')\n",
    "sheet = google_client.open_by_key(key='1WVGEW5ni7xUs6o5Bs_8joM2iKZclX7hO3lTq2Wp8H-U')\n",
    "worksheet = sheet.worksheet_by_title(\"food\")\n",
    "\n",
    "worksheet.set_dataframe(df, start=(1, 1))"
   ]
  }
 ],
 "metadata": {
  "kernelspec": {
   "display_name": "Python 3 (ipykernel)",
   "language": "python",
   "name": "python3"
  },
  "language_info": {
   "codemirror_mode": {
    "name": "ipython",
    "version": 3
   },
   "file_extension": ".py",
   "mimetype": "text/x-python",
   "name": "python",
   "nbconvert_exporter": "python",
   "pygments_lexer": "ipython3",
   "version": "3.11.4"
  }
 },
 "nbformat": 4,
 "nbformat_minor": 5
}
