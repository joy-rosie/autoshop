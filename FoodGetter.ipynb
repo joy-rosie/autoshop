{
 "cells": [
  {
   "cell_type": "code",
   "execution_count": 1,
   "id": "bbc14679-e8c1-4c06-b84a-aaee6df3169c",
   "metadata": {},
   "outputs": [],
   "source": [
    "import time\n",
    "\n",
    "import autoshop\n",
    "import pandas as pd\n",
    "import pygsheets"
   ]
  },
  {
   "cell_type": "code",
   "execution_count": 2,
   "id": "dd8ea28e-5884-4a34-b952-7936b25794f4",
   "metadata": {},
   "outputs": [],
   "source": [
    "driver = autoshop.chrome.driver()"
   ]
  },
  {
   "cell_type": "code",
   "execution_count": 3,
   "id": "ddba18cf",
   "metadata": {},
   "outputs": [
    {
     "name": "stdout",
     "output_type": "stream",
     "text": [
      "2023-09-23 15:01:55.056 INFO environment - get_environment_variables: Loading from environment variables from path=WindowsPath('.env')\n",
      "2023-09-23 15:01:57.590 INFO tesco - login: Logging into via url='https://www.tesco.com/account/login/en-GB?from=/' with email='roseannaferguson@hotmail.com'\n"
     ]
    },
    {
     "data": {
      "text/plain": [
       "<undetected_chromedriver.Chrome (session=\"4060fb266c12a355a479bf05ea487019\")>"
      ]
     },
     "execution_count": 3,
     "metadata": {},
     "output_type": "execute_result"
    }
   ],
   "source": [
    "autoshop.tesco.login(driver=driver)"
   ]
  },
  {
   "cell_type": "code",
   "execution_count": 4,
   "id": "bd90abb5-f07c-43f3-b60f-24cf90e64435",
   "metadata": {},
   "outputs": [],
   "source": [
    "time.sleep(1)\n",
    "driver.get(url=\"https://www.tesco.com/groceries/en-GB/orders\")"
   ]
  },
  {
   "cell_type": "code",
   "execution_count": 5,
   "id": "135478e0-a9c5-4adf-9b0f-a2319ae8a6f3",
   "metadata": {},
   "outputs": [],
   "source": [
    "element = autoshop.selenium.wait_and_click(\n",
    "    driver=driver,\n",
    "    value=\"//span[text()='Make changes']\",\n",
    ")"
   ]
  },
  {
   "cell_type": "code",
   "execution_count": 6,
   "id": "7b36b870-3f7a-41d5-85ee-701e1f80f65c",
   "metadata": {},
   "outputs": [],
   "source": [
    "df_food = autoshop.google.get_all_food()"
   ]
  },
  {
   "cell_type": "code",
   "execution_count": 7,
   "id": "1db972e2-b901-4ef6-880e-bc5014de5204",
   "metadata": {},
   "outputs": [
    {
     "name": "stdout",
     "output_type": "stream",
     "text": [
      "2023-09-23 15:02:22.765 INFO 3231092724 - <module>: name='Tomato'\n",
      "2023-09-23 15:02:22.765 INFO 3231092724 - <module>: url='https://www.tesco.com/groceries/en-GB/search?query=Tomato&page=1&count=24'\n",
      "2023-09-23 15:02:39.615 WARNING 3231092724 - <module>: No data found for name='Tomato', url='https://www.tesco.com/groceries/en-GB/search?query=Tomato&page=1&count=24'\n",
      "2023-09-23 15:02:39.615 INFO 3231092724 - <module>: name='Red Lentil'\n",
      "2023-09-23 15:02:39.620 INFO 3231092724 - <module>: url='https://www.tesco.com/groceries/en-GB/search?query=Red+Lentil&page=1&count=24'\n",
      "2023-09-23 15:02:48.127 INFO 3231092724 - <module>: name='Nigella Seed'\n",
      "2023-09-23 15:02:48.133 INFO 3231092724 - <module>: url='https://www.tesco.com/groceries/en-GB/search?query=Nigella+Seed&page=1&count=24'\n",
      "2023-09-23 15:02:54.599 INFO 3231092724 - <module>: name='Water'\n",
      "2023-09-23 15:02:54.599 INFO 3231092724 - <module>: url='https://www.tesco.com/groceries/en-GB/search?query=Water&page=1&count=24'\n",
      "2023-09-23 15:03:09.635 INFO 3231092724 - <module>: name='Sea Salt Flakes'\n",
      "2023-09-23 15:03:09.635 INFO 3231092724 - <module>: url='https://www.tesco.com/groceries/en-GB/search?query=Sea+Salt+Flakes&page=1&count=24'\n"
     ]
    }
   ],
   "source": [
    "list_df = []\n",
    "\n",
    "for _, row in df_food.iloc[:5].iterrows():\n",
    "    search = row[\"search\"]\n",
    "    name = row[\"name\"] if search is None or search == \"\" else search\n",
    "    autoshop.logger.info(f\"{name=}\")\n",
    "\n",
    "    url = autoshop.tesco.get_food_url(query=name)\n",
    "    autoshop.logger.info(f\"{url=}\")\n",
    "    driver.get(url=url)\n",
    "\n",
    "    elements = autoshop.tesco.get_food_elements(driver=driver)\n",
    "\n",
    "    df_temp = (\n",
    "        pd.DataFrame(dict(element=elements))\n",
    "        .assign(\n",
    "            food=row[\"food\"],\n",
    "            name=row[\"name\"],\n",
    "            search=name,\n",
    "            parent=lambda x: x[\"element\"].apply(lambda e: e.find_element(by=autoshop.selenium.by.XPATH, value=\"..\")),\n",
    "            raw=lambda x: x[\"parent\"].apply(lambda e: e.get_attribute(\"innerHTML\")),\n",
    "            description=lambda x: x[\"parent\"].apply(lambda e: e.find_element(by=autoshop.selenium.by.XPATH, value=\".//a[starts-with(@href, '/groceries/en-GB/products/')]//span[text() != '']\").text),\n",
    "            link=lambda x: x[\"element\"].apply(lambda e: e.get_attribute(\"href\")),\n",
    "            image=lambda x: '=IMAGE(\"' + x[\"parent\"].apply(autoshop.tesco.get_image_url).astype(str) + '\")',\n",
    "            quantity=lambda x: x[\"description\"].apply(autoshop.tesco.get_quantity_from_description),\n",
    "            amount=lambda x: pd.to_numeric(x[\"quantity\"].apply(lambda q: q.amount), errors=\"coerce\"),\n",
    "            unit=lambda x: x[\"quantity\"].apply(lambda q: q.unit),\n",
    "            price=lambda x: pd.to_numeric(x[\"parent\"].apply(autoshop.tesco.get_price), errors=\"coerce\"),\n",
    "            datetime=pd.Timestamp.now(),\n",
    "        )\n",
    "        .drop(columns=[\"element\", \"parent\", \"quantity\"])\n",
    "    )\n",
    "\n",
    "    if df_temp.empty:\n",
    "        autoshop.logger.warning(f\"No data found for {name=}, {url=}\")\n",
    "\n",
    "    list_df.append(df_temp)\n",
    "\n",
    "df = pd.concat(list_df, ignore_index=True)"
   ]
  },
  {
   "cell_type": "code",
   "execution_count": null,
   "id": "950ba723-1fb6-4537-a4ee-e6af4fb1dc68",
   "metadata": {},
   "outputs": [],
   "source": [
    "google_client = pygsheets.authorize(service_file='food-api-383412-1c354585502d.json')\n",
    "sheet = google_client.open_by_key(key='1WVGEW5ni7xUs6o5Bs_8joM2iKZclX7hO3lTq2Wp8H-U')\n",
    "worksheet = sheet.worksheet_by_title(\"food\")\n",
    "\n",
    "worksheet.set_dataframe(df, start=(1, 1))"
   ]
  }
 ],
 "metadata": {
  "kernelspec": {
   "display_name": "Python 3 (ipykernel)",
   "language": "python",
   "name": "python3"
  },
  "language_info": {
   "codemirror_mode": {
    "name": "ipython",
    "version": 3
   },
   "file_extension": ".py",
   "mimetype": "text/x-python",
   "name": "python",
   "nbconvert_exporter": "python",
   "pygments_lexer": "ipython3",
   "version": "3.11.4"
  }
 },
 "nbformat": 4,
 "nbformat_minor": 5
}
